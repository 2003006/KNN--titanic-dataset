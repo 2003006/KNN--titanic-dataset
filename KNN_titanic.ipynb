{
  "nbformat": 4,
  "nbformat_minor": 0,
  "metadata": {
    "colab": {
      "name": "KNN-titanic.ipynb",
      "provenance": [],
      "collapsed_sections": [],
      "toc_visible": true,
      "authorship_tag": "ABX9TyNihW8EGQuHpLbyvLUPOBqA",
      "include_colab_link": true
    },
    "kernelspec": {
      "name": "python3",
      "display_name": "Python 3"
    },
    "language_info": {
      "name": "python"
    }
  },
  "cells": [
    {
      "cell_type": "markdown",
      "metadata": {
        "id": "view-in-github",
        "colab_type": "text"
      },
      "source": [
        "<a href=\"https://colab.research.google.com/github/2003006/KNN--titanic-dataset/blob/main/KNN_titanic.ipynb\" target=\"_parent\"><img src=\"https://colab.research.google.com/assets/colab-badge.svg\" alt=\"Open In Colab\"/></a>"
      ]
    },
    {
      "cell_type": "markdown",
      "metadata": {
        "id": "SswWOqvVLSAi"
      },
      "source": [
        "# DEFINING THE QUESTION"
      ]
    },
    {
      "cell_type": "markdown",
      "metadata": {
        "id": "6ExP_YmYLfbq"
      },
      "source": [
        "##a) ***Specifying the Data Analytic Question***"
      ]
    },
    {
      "cell_type": "markdown",
      "metadata": {
        "id": "HN49R-3cL8ob"
      },
      "source": [
        "Building a K-nearest neighbor (kNN) model classifier and calculate the resulting metrics"
      ]
    },
    {
      "cell_type": "markdown",
      "metadata": {
        "id": "PqTvnPmSMDFn"
      },
      "source": [
        "##b) ***Defining the Metric for Success***"
      ]
    },
    {
      "cell_type": "markdown",
      "metadata": {
        "id": "zxgYUfefPLa6"
      },
      "source": [
        "KNN Multinomial Model with accuracy score between 70-90%"
      ]
    },
    {
      "cell_type": "markdown",
      "metadata": {
        "id": "mN_TQlXkNhW-"
      },
      "source": [
        "##c) ***Understanding the contex***"
      ]
    },
    {
      "cell_type": "markdown",
      "metadata": {
        "id": "QieI5ccBNnka"
      },
      "source": [
        "Dataset used for this project include:\n",
        "- train [https://archive.org/download/train5_202002/train%20%285%29.csv]\n",
        "- test [https://archive.org/download/test1_202002/test%20%281%29.csv]\n",
        "\n",
        "Both of the dataset had the following columns:\n",
        "- survived, \n",
        "- pclass\n",
        "- sex\n",
        "- age\n",
        "- sibsp\n",
        "- parch\n",
        "- fare\n",
        "- cabin\n",
        "- embarked\n"
      ]
    },
    {
      "cell_type": "markdown",
      "metadata": {
        "id": "8O7UfBi2MXqQ"
      },
      "source": [
        "d) ***Recording the Experimental Design***\n"
      ]
    },
    {
      "cell_type": "markdown",
      "metadata": {
        "id": "434l6Y5AMcL9"
      },
      "source": [
        "Steps to implement include ;\n",
        "\n",
        "- Data Pre-processing \n",
        "- EDA\n",
        "- Fitting the model(KNN) using different splits\n",
        "- Predicting the test result\n",
        "- Creating a confusion matrix and building the classification report\n",
        "- Test accuracy of the result\n"
      ]
    },
    {
      "cell_type": "markdown",
      "metadata": {
        "id": "OLOvOQfgNOjJ"
      },
      "source": [
        "##e) ***Data Relevance***"
      ]
    },
    {
      "cell_type": "markdown",
      "metadata": {
        "id": "Im3KsTFzNLq0"
      },
      "source": [
        "\n",
        "Provided data is relevant to the tasks to be performed"
      ]
    },
    {
      "cell_type": "markdown",
      "metadata": {
        "id": "IhgLk-wwYZeR"
      },
      "source": [
        "# IMPORT REQUIRED LIBRARIES"
      ]
    },
    {
      "cell_type": "code",
      "metadata": {
        "id": "jUsT_IKlYF4I"
      },
      "source": [
        "import pandas as pd\n",
        "import numpy as np\n",
        "import matplotlib.pyplot as plt\n",
        "import seaborn as sns\n",
        "import seaborn as sns\n",
        "import matplotlib.font_manager\n",
        "%matplotlib inline\n",
        "#import plotly.plotly  as py\n",
        "import plotly.graph_objs as go\n",
        "#plotly.tools.set_credentials_file(username='***', api_key='***')"
      ],
      "execution_count": 174,
      "outputs": []
    },
    {
      "cell_type": "markdown",
      "metadata": {
        "id": "gwiPhnAsYhDL"
      },
      "source": [
        "# LOADING THE DATASETS"
      ]
    },
    {
      "cell_type": "code",
      "metadata": {
        "id": "p4I5cltTYmAF"
      },
      "source": [
        "train=pd.read_csv(\"/content/train (5).csv\")"
      ],
      "execution_count": 175,
      "outputs": []
    },
    {
      "cell_type": "code",
      "metadata": {
        "id": "8uFgkVe2akAA"
      },
      "source": [
        "test = pd.read_csv(\"/content/test (1).csv\")"
      ],
      "execution_count": 176,
      "outputs": []
    },
    {
      "cell_type": "markdown",
      "metadata": {
        "id": "0HwVv-bmYw2B"
      },
      "source": [
        "# PREVIEWING THE DATASET"
      ]
    },
    {
      "cell_type": "markdown",
      "metadata": {
        "id": "2dTB7XLkbTl5"
      },
      "source": [
        "## ***previewing the test dataset***"
      ]
    },
    {
      "cell_type": "code",
      "metadata": {
        "colab": {
          "base_uri": "https://localhost:8080/",
          "height": 204
        },
        "id": "GQQRxORqYtwv",
        "outputId": "04946545-269d-4d32-9994-26577bd8d188"
      },
      "source": [
        "#previewing the head\n",
        "test.head()"
      ],
      "execution_count": 177,
      "outputs": [
        {
          "output_type": "execute_result",
          "data": {
            "text/html": [
              "<div>\n",
              "<style scoped>\n",
              "    .dataframe tbody tr th:only-of-type {\n",
              "        vertical-align: middle;\n",
              "    }\n",
              "\n",
              "    .dataframe tbody tr th {\n",
              "        vertical-align: top;\n",
              "    }\n",
              "\n",
              "    .dataframe thead th {\n",
              "        text-align: right;\n",
              "    }\n",
              "</style>\n",
              "<table border=\"1\" class=\"dataframe\">\n",
              "  <thead>\n",
              "    <tr style=\"text-align: right;\">\n",
              "      <th></th>\n",
              "      <th>PassengerId</th>\n",
              "      <th>Pclass</th>\n",
              "      <th>Name</th>\n",
              "      <th>Sex</th>\n",
              "      <th>Age</th>\n",
              "      <th>SibSp</th>\n",
              "      <th>Parch</th>\n",
              "      <th>Ticket</th>\n",
              "      <th>Fare</th>\n",
              "      <th>Cabin</th>\n",
              "      <th>Embarked</th>\n",
              "    </tr>\n",
              "  </thead>\n",
              "  <tbody>\n",
              "    <tr>\n",
              "      <th>0</th>\n",
              "      <td>892</td>\n",
              "      <td>3</td>\n",
              "      <td>Kelly, Mr. James</td>\n",
              "      <td>male</td>\n",
              "      <td>34.5</td>\n",
              "      <td>0</td>\n",
              "      <td>0</td>\n",
              "      <td>330911</td>\n",
              "      <td>7.8292</td>\n",
              "      <td>NaN</td>\n",
              "      <td>Q</td>\n",
              "    </tr>\n",
              "    <tr>\n",
              "      <th>1</th>\n",
              "      <td>893</td>\n",
              "      <td>3</td>\n",
              "      <td>Wilkes, Mrs. James (Ellen Needs)</td>\n",
              "      <td>female</td>\n",
              "      <td>47.0</td>\n",
              "      <td>1</td>\n",
              "      <td>0</td>\n",
              "      <td>363272</td>\n",
              "      <td>7.0000</td>\n",
              "      <td>NaN</td>\n",
              "      <td>S</td>\n",
              "    </tr>\n",
              "    <tr>\n",
              "      <th>2</th>\n",
              "      <td>894</td>\n",
              "      <td>2</td>\n",
              "      <td>Myles, Mr. Thomas Francis</td>\n",
              "      <td>male</td>\n",
              "      <td>62.0</td>\n",
              "      <td>0</td>\n",
              "      <td>0</td>\n",
              "      <td>240276</td>\n",
              "      <td>9.6875</td>\n",
              "      <td>NaN</td>\n",
              "      <td>Q</td>\n",
              "    </tr>\n",
              "    <tr>\n",
              "      <th>3</th>\n",
              "      <td>895</td>\n",
              "      <td>3</td>\n",
              "      <td>Wirz, Mr. Albert</td>\n",
              "      <td>male</td>\n",
              "      <td>27.0</td>\n",
              "      <td>0</td>\n",
              "      <td>0</td>\n",
              "      <td>315154</td>\n",
              "      <td>8.6625</td>\n",
              "      <td>NaN</td>\n",
              "      <td>S</td>\n",
              "    </tr>\n",
              "    <tr>\n",
              "      <th>4</th>\n",
              "      <td>896</td>\n",
              "      <td>3</td>\n",
              "      <td>Hirvonen, Mrs. Alexander (Helga E Lindqvist)</td>\n",
              "      <td>female</td>\n",
              "      <td>22.0</td>\n",
              "      <td>1</td>\n",
              "      <td>1</td>\n",
              "      <td>3101298</td>\n",
              "      <td>12.2875</td>\n",
              "      <td>NaN</td>\n",
              "      <td>S</td>\n",
              "    </tr>\n",
              "  </tbody>\n",
              "</table>\n",
              "</div>"
            ],
            "text/plain": [
              "   PassengerId  Pclass  ... Cabin Embarked\n",
              "0          892       3  ...   NaN        Q\n",
              "1          893       3  ...   NaN        S\n",
              "2          894       2  ...   NaN        Q\n",
              "3          895       3  ...   NaN        S\n",
              "4          896       3  ...   NaN        S\n",
              "\n",
              "[5 rows x 11 columns]"
            ]
          },
          "metadata": {
            "tags": []
          },
          "execution_count": 177
        }
      ]
    },
    {
      "cell_type": "code",
      "metadata": {
        "colab": {
          "base_uri": "https://localhost:8080/",
          "height": 238
        },
        "id": "eZ2q_nexY3qG",
        "outputId": "4e84fc78-14d8-4c95-8525-f5ba767a6c07"
      },
      "source": [
        "#previewing the tail\n",
        "test.tail()"
      ],
      "execution_count": 178,
      "outputs": [
        {
          "output_type": "execute_result",
          "data": {
            "text/html": [
              "<div>\n",
              "<style scoped>\n",
              "    .dataframe tbody tr th:only-of-type {\n",
              "        vertical-align: middle;\n",
              "    }\n",
              "\n",
              "    .dataframe tbody tr th {\n",
              "        vertical-align: top;\n",
              "    }\n",
              "\n",
              "    .dataframe thead th {\n",
              "        text-align: right;\n",
              "    }\n",
              "</style>\n",
              "<table border=\"1\" class=\"dataframe\">\n",
              "  <thead>\n",
              "    <tr style=\"text-align: right;\">\n",
              "      <th></th>\n",
              "      <th>PassengerId</th>\n",
              "      <th>Pclass</th>\n",
              "      <th>Name</th>\n",
              "      <th>Sex</th>\n",
              "      <th>Age</th>\n",
              "      <th>SibSp</th>\n",
              "      <th>Parch</th>\n",
              "      <th>Ticket</th>\n",
              "      <th>Fare</th>\n",
              "      <th>Cabin</th>\n",
              "      <th>Embarked</th>\n",
              "    </tr>\n",
              "  </thead>\n",
              "  <tbody>\n",
              "    <tr>\n",
              "      <th>413</th>\n",
              "      <td>1305</td>\n",
              "      <td>3</td>\n",
              "      <td>Spector, Mr. Woolf</td>\n",
              "      <td>male</td>\n",
              "      <td>NaN</td>\n",
              "      <td>0</td>\n",
              "      <td>0</td>\n",
              "      <td>A.5. 3236</td>\n",
              "      <td>8.0500</td>\n",
              "      <td>NaN</td>\n",
              "      <td>S</td>\n",
              "    </tr>\n",
              "    <tr>\n",
              "      <th>414</th>\n",
              "      <td>1306</td>\n",
              "      <td>1</td>\n",
              "      <td>Oliva y Ocana, Dona. Fermina</td>\n",
              "      <td>female</td>\n",
              "      <td>39.0</td>\n",
              "      <td>0</td>\n",
              "      <td>0</td>\n",
              "      <td>PC 17758</td>\n",
              "      <td>108.9000</td>\n",
              "      <td>C105</td>\n",
              "      <td>C</td>\n",
              "    </tr>\n",
              "    <tr>\n",
              "      <th>415</th>\n",
              "      <td>1307</td>\n",
              "      <td>3</td>\n",
              "      <td>Saether, Mr. Simon Sivertsen</td>\n",
              "      <td>male</td>\n",
              "      <td>38.5</td>\n",
              "      <td>0</td>\n",
              "      <td>0</td>\n",
              "      <td>SOTON/O.Q. 3101262</td>\n",
              "      <td>7.2500</td>\n",
              "      <td>NaN</td>\n",
              "      <td>S</td>\n",
              "    </tr>\n",
              "    <tr>\n",
              "      <th>416</th>\n",
              "      <td>1308</td>\n",
              "      <td>3</td>\n",
              "      <td>Ware, Mr. Frederick</td>\n",
              "      <td>male</td>\n",
              "      <td>NaN</td>\n",
              "      <td>0</td>\n",
              "      <td>0</td>\n",
              "      <td>359309</td>\n",
              "      <td>8.0500</td>\n",
              "      <td>NaN</td>\n",
              "      <td>S</td>\n",
              "    </tr>\n",
              "    <tr>\n",
              "      <th>417</th>\n",
              "      <td>1309</td>\n",
              "      <td>3</td>\n",
              "      <td>Peter, Master. Michael J</td>\n",
              "      <td>male</td>\n",
              "      <td>NaN</td>\n",
              "      <td>1</td>\n",
              "      <td>1</td>\n",
              "      <td>2668</td>\n",
              "      <td>22.3583</td>\n",
              "      <td>NaN</td>\n",
              "      <td>C</td>\n",
              "    </tr>\n",
              "  </tbody>\n",
              "</table>\n",
              "</div>"
            ],
            "text/plain": [
              "     PassengerId  Pclass                          Name  ...      Fare  Cabin  Embarked\n",
              "413         1305       3            Spector, Mr. Woolf  ...    8.0500    NaN         S\n",
              "414         1306       1  Oliva y Ocana, Dona. Fermina  ...  108.9000   C105         C\n",
              "415         1307       3  Saether, Mr. Simon Sivertsen  ...    7.2500    NaN         S\n",
              "416         1308       3           Ware, Mr. Frederick  ...    8.0500    NaN         S\n",
              "417         1309       3      Peter, Master. Michael J  ...   22.3583    NaN         C\n",
              "\n",
              "[5 rows x 11 columns]"
            ]
          },
          "metadata": {
            "tags": []
          },
          "execution_count": 178
        }
      ]
    },
    {
      "cell_type": "markdown",
      "metadata": {
        "id": "w3ouc295bfzc"
      },
      "source": [
        "## ***previewing the train dataset***"
      ]
    },
    {
      "cell_type": "code",
      "metadata": {
        "colab": {
          "base_uri": "https://localhost:8080/",
          "height": 272
        },
        "id": "Bd8zjmavblpx",
        "outputId": "4f47b462-c6e9-4ff0-a274-adc7074fafce"
      },
      "source": [
        "#previewing the head\n",
        "train.head()"
      ],
      "execution_count": 179,
      "outputs": [
        {
          "output_type": "execute_result",
          "data": {
            "text/html": [
              "<div>\n",
              "<style scoped>\n",
              "    .dataframe tbody tr th:only-of-type {\n",
              "        vertical-align: middle;\n",
              "    }\n",
              "\n",
              "    .dataframe tbody tr th {\n",
              "        vertical-align: top;\n",
              "    }\n",
              "\n",
              "    .dataframe thead th {\n",
              "        text-align: right;\n",
              "    }\n",
              "</style>\n",
              "<table border=\"1\" class=\"dataframe\">\n",
              "  <thead>\n",
              "    <tr style=\"text-align: right;\">\n",
              "      <th></th>\n",
              "      <th>PassengerId</th>\n",
              "      <th>Survived</th>\n",
              "      <th>Pclass</th>\n",
              "      <th>Name</th>\n",
              "      <th>Sex</th>\n",
              "      <th>Age</th>\n",
              "      <th>SibSp</th>\n",
              "      <th>Parch</th>\n",
              "      <th>Ticket</th>\n",
              "      <th>Fare</th>\n",
              "      <th>Cabin</th>\n",
              "      <th>Embarked</th>\n",
              "    </tr>\n",
              "  </thead>\n",
              "  <tbody>\n",
              "    <tr>\n",
              "      <th>0</th>\n",
              "      <td>1</td>\n",
              "      <td>0</td>\n",
              "      <td>3</td>\n",
              "      <td>Braund, Mr. Owen Harris</td>\n",
              "      <td>male</td>\n",
              "      <td>22.0</td>\n",
              "      <td>1</td>\n",
              "      <td>0</td>\n",
              "      <td>A/5 21171</td>\n",
              "      <td>7.2500</td>\n",
              "      <td>NaN</td>\n",
              "      <td>S</td>\n",
              "    </tr>\n",
              "    <tr>\n",
              "      <th>1</th>\n",
              "      <td>2</td>\n",
              "      <td>1</td>\n",
              "      <td>1</td>\n",
              "      <td>Cumings, Mrs. John Bradley (Florence Briggs Th...</td>\n",
              "      <td>female</td>\n",
              "      <td>38.0</td>\n",
              "      <td>1</td>\n",
              "      <td>0</td>\n",
              "      <td>PC 17599</td>\n",
              "      <td>71.2833</td>\n",
              "      <td>C85</td>\n",
              "      <td>C</td>\n",
              "    </tr>\n",
              "    <tr>\n",
              "      <th>2</th>\n",
              "      <td>3</td>\n",
              "      <td>1</td>\n",
              "      <td>3</td>\n",
              "      <td>Heikkinen, Miss. Laina</td>\n",
              "      <td>female</td>\n",
              "      <td>26.0</td>\n",
              "      <td>0</td>\n",
              "      <td>0</td>\n",
              "      <td>STON/O2. 3101282</td>\n",
              "      <td>7.9250</td>\n",
              "      <td>NaN</td>\n",
              "      <td>S</td>\n",
              "    </tr>\n",
              "    <tr>\n",
              "      <th>3</th>\n",
              "      <td>4</td>\n",
              "      <td>1</td>\n",
              "      <td>1</td>\n",
              "      <td>Futrelle, Mrs. Jacques Heath (Lily May Peel)</td>\n",
              "      <td>female</td>\n",
              "      <td>35.0</td>\n",
              "      <td>1</td>\n",
              "      <td>0</td>\n",
              "      <td>113803</td>\n",
              "      <td>53.1000</td>\n",
              "      <td>C123</td>\n",
              "      <td>S</td>\n",
              "    </tr>\n",
              "    <tr>\n",
              "      <th>4</th>\n",
              "      <td>5</td>\n",
              "      <td>0</td>\n",
              "      <td>3</td>\n",
              "      <td>Allen, Mr. William Henry</td>\n",
              "      <td>male</td>\n",
              "      <td>35.0</td>\n",
              "      <td>0</td>\n",
              "      <td>0</td>\n",
              "      <td>373450</td>\n",
              "      <td>8.0500</td>\n",
              "      <td>NaN</td>\n",
              "      <td>S</td>\n",
              "    </tr>\n",
              "  </tbody>\n",
              "</table>\n",
              "</div>"
            ],
            "text/plain": [
              "   PassengerId  Survived  Pclass  ...     Fare Cabin  Embarked\n",
              "0            1         0       3  ...   7.2500   NaN         S\n",
              "1            2         1       1  ...  71.2833   C85         C\n",
              "2            3         1       3  ...   7.9250   NaN         S\n",
              "3            4         1       1  ...  53.1000  C123         S\n",
              "4            5         0       3  ...   8.0500   NaN         S\n",
              "\n",
              "[5 rows x 12 columns]"
            ]
          },
          "metadata": {
            "tags": []
          },
          "execution_count": 179
        }
      ]
    },
    {
      "cell_type": "code",
      "metadata": {
        "colab": {
          "base_uri": "https://localhost:8080/",
          "height": 221
        },
        "id": "NnNMerVmb0At",
        "outputId": "6b1fca1d-79cb-4cad-ef57-bfbf0e52d105"
      },
      "source": [
        "#previewing the tail.\n",
        "train.tail()"
      ],
      "execution_count": 180,
      "outputs": [
        {
          "output_type": "execute_result",
          "data": {
            "text/html": [
              "<div>\n",
              "<style scoped>\n",
              "    .dataframe tbody tr th:only-of-type {\n",
              "        vertical-align: middle;\n",
              "    }\n",
              "\n",
              "    .dataframe tbody tr th {\n",
              "        vertical-align: top;\n",
              "    }\n",
              "\n",
              "    .dataframe thead th {\n",
              "        text-align: right;\n",
              "    }\n",
              "</style>\n",
              "<table border=\"1\" class=\"dataframe\">\n",
              "  <thead>\n",
              "    <tr style=\"text-align: right;\">\n",
              "      <th></th>\n",
              "      <th>PassengerId</th>\n",
              "      <th>Survived</th>\n",
              "      <th>Pclass</th>\n",
              "      <th>Name</th>\n",
              "      <th>Sex</th>\n",
              "      <th>Age</th>\n",
              "      <th>SibSp</th>\n",
              "      <th>Parch</th>\n",
              "      <th>Ticket</th>\n",
              "      <th>Fare</th>\n",
              "      <th>Cabin</th>\n",
              "      <th>Embarked</th>\n",
              "    </tr>\n",
              "  </thead>\n",
              "  <tbody>\n",
              "    <tr>\n",
              "      <th>886</th>\n",
              "      <td>887</td>\n",
              "      <td>0</td>\n",
              "      <td>2</td>\n",
              "      <td>Montvila, Rev. Juozas</td>\n",
              "      <td>male</td>\n",
              "      <td>27.0</td>\n",
              "      <td>0</td>\n",
              "      <td>0</td>\n",
              "      <td>211536</td>\n",
              "      <td>13.00</td>\n",
              "      <td>NaN</td>\n",
              "      <td>S</td>\n",
              "    </tr>\n",
              "    <tr>\n",
              "      <th>887</th>\n",
              "      <td>888</td>\n",
              "      <td>1</td>\n",
              "      <td>1</td>\n",
              "      <td>Graham, Miss. Margaret Edith</td>\n",
              "      <td>female</td>\n",
              "      <td>19.0</td>\n",
              "      <td>0</td>\n",
              "      <td>0</td>\n",
              "      <td>112053</td>\n",
              "      <td>30.00</td>\n",
              "      <td>B42</td>\n",
              "      <td>S</td>\n",
              "    </tr>\n",
              "    <tr>\n",
              "      <th>888</th>\n",
              "      <td>889</td>\n",
              "      <td>0</td>\n",
              "      <td>3</td>\n",
              "      <td>Johnston, Miss. Catherine Helen \"Carrie\"</td>\n",
              "      <td>female</td>\n",
              "      <td>NaN</td>\n",
              "      <td>1</td>\n",
              "      <td>2</td>\n",
              "      <td>W./C. 6607</td>\n",
              "      <td>23.45</td>\n",
              "      <td>NaN</td>\n",
              "      <td>S</td>\n",
              "    </tr>\n",
              "    <tr>\n",
              "      <th>889</th>\n",
              "      <td>890</td>\n",
              "      <td>1</td>\n",
              "      <td>1</td>\n",
              "      <td>Behr, Mr. Karl Howell</td>\n",
              "      <td>male</td>\n",
              "      <td>26.0</td>\n",
              "      <td>0</td>\n",
              "      <td>0</td>\n",
              "      <td>111369</td>\n",
              "      <td>30.00</td>\n",
              "      <td>C148</td>\n",
              "      <td>C</td>\n",
              "    </tr>\n",
              "    <tr>\n",
              "      <th>890</th>\n",
              "      <td>891</td>\n",
              "      <td>0</td>\n",
              "      <td>3</td>\n",
              "      <td>Dooley, Mr. Patrick</td>\n",
              "      <td>male</td>\n",
              "      <td>32.0</td>\n",
              "      <td>0</td>\n",
              "      <td>0</td>\n",
              "      <td>370376</td>\n",
              "      <td>7.75</td>\n",
              "      <td>NaN</td>\n",
              "      <td>Q</td>\n",
              "    </tr>\n",
              "  </tbody>\n",
              "</table>\n",
              "</div>"
            ],
            "text/plain": [
              "     PassengerId  Survived  Pclass  ...   Fare Cabin  Embarked\n",
              "886          887         0       2  ...  13.00   NaN         S\n",
              "887          888         1       1  ...  30.00   B42         S\n",
              "888          889         0       3  ...  23.45   NaN         S\n",
              "889          890         1       1  ...  30.00  C148         C\n",
              "890          891         0       3  ...   7.75   NaN         Q\n",
              "\n",
              "[5 rows x 12 columns]"
            ]
          },
          "metadata": {
            "tags": []
          },
          "execution_count": 180
        }
      ]
    },
    {
      "cell_type": "markdown",
      "metadata": {
        "id": "gBxVPBn3ZCri"
      },
      "source": [
        "# GETTING THE DATASET INFO"
      ]
    },
    {
      "cell_type": "markdown",
      "metadata": {
        "id": "NLIIdilbb6_c"
      },
      "source": [
        "## *** for train***"
      ]
    },
    {
      "cell_type": "code",
      "metadata": {
        "colab": {
          "base_uri": "https://localhost:8080/"
        },
        "id": "lIgBMrkGY_NA",
        "outputId": "a9c69c73-8be1-4ac6-8c85-fad8b6037853"
      },
      "source": [
        "train.info()"
      ],
      "execution_count": 181,
      "outputs": [
        {
          "output_type": "stream",
          "text": [
            "<class 'pandas.core.frame.DataFrame'>\n",
            "RangeIndex: 891 entries, 0 to 890\n",
            "Data columns (total 12 columns):\n",
            " #   Column       Non-Null Count  Dtype  \n",
            "---  ------       --------------  -----  \n",
            " 0   PassengerId  891 non-null    int64  \n",
            " 1   Survived     891 non-null    int64  \n",
            " 2   Pclass       891 non-null    int64  \n",
            " 3   Name         891 non-null    object \n",
            " 4   Sex          891 non-null    object \n",
            " 5   Age          714 non-null    float64\n",
            " 6   SibSp        891 non-null    int64  \n",
            " 7   Parch        891 non-null    int64  \n",
            " 8   Ticket       891 non-null    object \n",
            " 9   Fare         891 non-null    float64\n",
            " 10  Cabin        204 non-null    object \n",
            " 11  Embarked     889 non-null    object \n",
            "dtypes: float64(2), int64(5), object(5)\n",
            "memory usage: 83.7+ KB\n"
          ],
          "name": "stdout"
        }
      ]
    },
    {
      "cell_type": "markdown",
      "metadata": {
        "id": "5fAFCFqIcJcW"
      },
      "source": [
        "## ***for test***"
      ]
    },
    {
      "cell_type": "code",
      "metadata": {
        "colab": {
          "base_uri": "https://localhost:8080/"
        },
        "id": "MzGWLJTXcNOU",
        "outputId": "6a443d17-4e00-4f70-b273-cc0c764c3397"
      },
      "source": [
        "test.info()"
      ],
      "execution_count": 182,
      "outputs": [
        {
          "output_type": "stream",
          "text": [
            "<class 'pandas.core.frame.DataFrame'>\n",
            "RangeIndex: 418 entries, 0 to 417\n",
            "Data columns (total 11 columns):\n",
            " #   Column       Non-Null Count  Dtype  \n",
            "---  ------       --------------  -----  \n",
            " 0   PassengerId  418 non-null    int64  \n",
            " 1   Pclass       418 non-null    int64  \n",
            " 2   Name         418 non-null    object \n",
            " 3   Sex          418 non-null    object \n",
            " 4   Age          332 non-null    float64\n",
            " 5   SibSp        418 non-null    int64  \n",
            " 6   Parch        418 non-null    int64  \n",
            " 7   Ticket       418 non-null    object \n",
            " 8   Fare         417 non-null    float64\n",
            " 9   Cabin        91 non-null     object \n",
            " 10  Embarked     418 non-null    object \n",
            "dtypes: float64(2), int64(4), object(5)\n",
            "memory usage: 36.0+ KB\n"
          ],
          "name": "stdout"
        }
      ]
    },
    {
      "cell_type": "markdown",
      "metadata": {
        "id": "Sm7zsk-fcUJY"
      },
      "source": [
        "# MERGING THE TRAIN AND TEST DATASET"
      ]
    },
    {
      "cell_type": "code",
      "metadata": {
        "id": "sIN3grHMcZ_c"
      },
      "source": [
        "#concating the dataset\n",
        "df = pd.concat([train,test])"
      ],
      "execution_count": 183,
      "outputs": []
    },
    {
      "cell_type": "code",
      "metadata": {
        "colab": {
          "base_uri": "https://localhost:8080/",
          "height": 272
        },
        "id": "JHUou-7_ckqC",
        "outputId": "774f0598-82e5-4bcc-aef6-f73671160aba"
      },
      "source": [
        "#previewing the concated dataframe\n",
        "df.head()"
      ],
      "execution_count": 184,
      "outputs": [
        {
          "output_type": "execute_result",
          "data": {
            "text/html": [
              "<div>\n",
              "<style scoped>\n",
              "    .dataframe tbody tr th:only-of-type {\n",
              "        vertical-align: middle;\n",
              "    }\n",
              "\n",
              "    .dataframe tbody tr th {\n",
              "        vertical-align: top;\n",
              "    }\n",
              "\n",
              "    .dataframe thead th {\n",
              "        text-align: right;\n",
              "    }\n",
              "</style>\n",
              "<table border=\"1\" class=\"dataframe\">\n",
              "  <thead>\n",
              "    <tr style=\"text-align: right;\">\n",
              "      <th></th>\n",
              "      <th>PassengerId</th>\n",
              "      <th>Survived</th>\n",
              "      <th>Pclass</th>\n",
              "      <th>Name</th>\n",
              "      <th>Sex</th>\n",
              "      <th>Age</th>\n",
              "      <th>SibSp</th>\n",
              "      <th>Parch</th>\n",
              "      <th>Ticket</th>\n",
              "      <th>Fare</th>\n",
              "      <th>Cabin</th>\n",
              "      <th>Embarked</th>\n",
              "    </tr>\n",
              "  </thead>\n",
              "  <tbody>\n",
              "    <tr>\n",
              "      <th>0</th>\n",
              "      <td>1</td>\n",
              "      <td>0.0</td>\n",
              "      <td>3</td>\n",
              "      <td>Braund, Mr. Owen Harris</td>\n",
              "      <td>male</td>\n",
              "      <td>22.0</td>\n",
              "      <td>1</td>\n",
              "      <td>0</td>\n",
              "      <td>A/5 21171</td>\n",
              "      <td>7.2500</td>\n",
              "      <td>NaN</td>\n",
              "      <td>S</td>\n",
              "    </tr>\n",
              "    <tr>\n",
              "      <th>1</th>\n",
              "      <td>2</td>\n",
              "      <td>1.0</td>\n",
              "      <td>1</td>\n",
              "      <td>Cumings, Mrs. John Bradley (Florence Briggs Th...</td>\n",
              "      <td>female</td>\n",
              "      <td>38.0</td>\n",
              "      <td>1</td>\n",
              "      <td>0</td>\n",
              "      <td>PC 17599</td>\n",
              "      <td>71.2833</td>\n",
              "      <td>C85</td>\n",
              "      <td>C</td>\n",
              "    </tr>\n",
              "    <tr>\n",
              "      <th>2</th>\n",
              "      <td>3</td>\n",
              "      <td>1.0</td>\n",
              "      <td>3</td>\n",
              "      <td>Heikkinen, Miss. Laina</td>\n",
              "      <td>female</td>\n",
              "      <td>26.0</td>\n",
              "      <td>0</td>\n",
              "      <td>0</td>\n",
              "      <td>STON/O2. 3101282</td>\n",
              "      <td>7.9250</td>\n",
              "      <td>NaN</td>\n",
              "      <td>S</td>\n",
              "    </tr>\n",
              "    <tr>\n",
              "      <th>3</th>\n",
              "      <td>4</td>\n",
              "      <td>1.0</td>\n",
              "      <td>1</td>\n",
              "      <td>Futrelle, Mrs. Jacques Heath (Lily May Peel)</td>\n",
              "      <td>female</td>\n",
              "      <td>35.0</td>\n",
              "      <td>1</td>\n",
              "      <td>0</td>\n",
              "      <td>113803</td>\n",
              "      <td>53.1000</td>\n",
              "      <td>C123</td>\n",
              "      <td>S</td>\n",
              "    </tr>\n",
              "    <tr>\n",
              "      <th>4</th>\n",
              "      <td>5</td>\n",
              "      <td>0.0</td>\n",
              "      <td>3</td>\n",
              "      <td>Allen, Mr. William Henry</td>\n",
              "      <td>male</td>\n",
              "      <td>35.0</td>\n",
              "      <td>0</td>\n",
              "      <td>0</td>\n",
              "      <td>373450</td>\n",
              "      <td>8.0500</td>\n",
              "      <td>NaN</td>\n",
              "      <td>S</td>\n",
              "    </tr>\n",
              "  </tbody>\n",
              "</table>\n",
              "</div>"
            ],
            "text/plain": [
              "   PassengerId  Survived  Pclass  ...     Fare Cabin  Embarked\n",
              "0            1       0.0       3  ...   7.2500   NaN         S\n",
              "1            2       1.0       1  ...  71.2833   C85         C\n",
              "2            3       1.0       3  ...   7.9250   NaN         S\n",
              "3            4       1.0       1  ...  53.1000  C123         S\n",
              "4            5       0.0       3  ...   8.0500   NaN         S\n",
              "\n",
              "[5 rows x 12 columns]"
            ]
          },
          "metadata": {
            "tags": []
          },
          "execution_count": 184
        }
      ]
    },
    {
      "cell_type": "code",
      "metadata": {
        "colab": {
          "base_uri": "https://localhost:8080/",
          "height": 255
        },
        "id": "EufOgFbmcqO4",
        "outputId": "f60a61de-bb8f-41d5-c792-573708bd2505"
      },
      "source": [
        "#previewing the tail\n",
        "df.tail()"
      ],
      "execution_count": 185,
      "outputs": [
        {
          "output_type": "execute_result",
          "data": {
            "text/html": [
              "<div>\n",
              "<style scoped>\n",
              "    .dataframe tbody tr th:only-of-type {\n",
              "        vertical-align: middle;\n",
              "    }\n",
              "\n",
              "    .dataframe tbody tr th {\n",
              "        vertical-align: top;\n",
              "    }\n",
              "\n",
              "    .dataframe thead th {\n",
              "        text-align: right;\n",
              "    }\n",
              "</style>\n",
              "<table border=\"1\" class=\"dataframe\">\n",
              "  <thead>\n",
              "    <tr style=\"text-align: right;\">\n",
              "      <th></th>\n",
              "      <th>PassengerId</th>\n",
              "      <th>Survived</th>\n",
              "      <th>Pclass</th>\n",
              "      <th>Name</th>\n",
              "      <th>Sex</th>\n",
              "      <th>Age</th>\n",
              "      <th>SibSp</th>\n",
              "      <th>Parch</th>\n",
              "      <th>Ticket</th>\n",
              "      <th>Fare</th>\n",
              "      <th>Cabin</th>\n",
              "      <th>Embarked</th>\n",
              "    </tr>\n",
              "  </thead>\n",
              "  <tbody>\n",
              "    <tr>\n",
              "      <th>413</th>\n",
              "      <td>1305</td>\n",
              "      <td>NaN</td>\n",
              "      <td>3</td>\n",
              "      <td>Spector, Mr. Woolf</td>\n",
              "      <td>male</td>\n",
              "      <td>NaN</td>\n",
              "      <td>0</td>\n",
              "      <td>0</td>\n",
              "      <td>A.5. 3236</td>\n",
              "      <td>8.0500</td>\n",
              "      <td>NaN</td>\n",
              "      <td>S</td>\n",
              "    </tr>\n",
              "    <tr>\n",
              "      <th>414</th>\n",
              "      <td>1306</td>\n",
              "      <td>NaN</td>\n",
              "      <td>1</td>\n",
              "      <td>Oliva y Ocana, Dona. Fermina</td>\n",
              "      <td>female</td>\n",
              "      <td>39.0</td>\n",
              "      <td>0</td>\n",
              "      <td>0</td>\n",
              "      <td>PC 17758</td>\n",
              "      <td>108.9000</td>\n",
              "      <td>C105</td>\n",
              "      <td>C</td>\n",
              "    </tr>\n",
              "    <tr>\n",
              "      <th>415</th>\n",
              "      <td>1307</td>\n",
              "      <td>NaN</td>\n",
              "      <td>3</td>\n",
              "      <td>Saether, Mr. Simon Sivertsen</td>\n",
              "      <td>male</td>\n",
              "      <td>38.5</td>\n",
              "      <td>0</td>\n",
              "      <td>0</td>\n",
              "      <td>SOTON/O.Q. 3101262</td>\n",
              "      <td>7.2500</td>\n",
              "      <td>NaN</td>\n",
              "      <td>S</td>\n",
              "    </tr>\n",
              "    <tr>\n",
              "      <th>416</th>\n",
              "      <td>1308</td>\n",
              "      <td>NaN</td>\n",
              "      <td>3</td>\n",
              "      <td>Ware, Mr. Frederick</td>\n",
              "      <td>male</td>\n",
              "      <td>NaN</td>\n",
              "      <td>0</td>\n",
              "      <td>0</td>\n",
              "      <td>359309</td>\n",
              "      <td>8.0500</td>\n",
              "      <td>NaN</td>\n",
              "      <td>S</td>\n",
              "    </tr>\n",
              "    <tr>\n",
              "      <th>417</th>\n",
              "      <td>1309</td>\n",
              "      <td>NaN</td>\n",
              "      <td>3</td>\n",
              "      <td>Peter, Master. Michael J</td>\n",
              "      <td>male</td>\n",
              "      <td>NaN</td>\n",
              "      <td>1</td>\n",
              "      <td>1</td>\n",
              "      <td>2668</td>\n",
              "      <td>22.3583</td>\n",
              "      <td>NaN</td>\n",
              "      <td>C</td>\n",
              "    </tr>\n",
              "  </tbody>\n",
              "</table>\n",
              "</div>"
            ],
            "text/plain": [
              "     PassengerId  Survived  Pclass  ...      Fare Cabin  Embarked\n",
              "413         1305       NaN       3  ...    8.0500   NaN         S\n",
              "414         1306       NaN       1  ...  108.9000  C105         C\n",
              "415         1307       NaN       3  ...    7.2500   NaN         S\n",
              "416         1308       NaN       3  ...    8.0500   NaN         S\n",
              "417         1309       NaN       3  ...   22.3583   NaN         C\n",
              "\n",
              "[5 rows x 12 columns]"
            ]
          },
          "metadata": {
            "tags": []
          },
          "execution_count": 185
        }
      ]
    },
    {
      "cell_type": "code",
      "metadata": {
        "id": "0UkuwbnkfozG"
      },
      "source": [
        "df.set_index('PassengerId',inplace=True)"
      ],
      "execution_count": 186,
      "outputs": []
    },
    {
      "cell_type": "code",
      "metadata": {
        "colab": {
          "base_uri": "https://localhost:8080/",
          "height": 286
        },
        "id": "e934fQmGft7a",
        "outputId": "8e3c9251-99bd-4cfe-8e44-057047d5a041"
      },
      "source": [
        "df.head()"
      ],
      "execution_count": 187,
      "outputs": [
        {
          "output_type": "execute_result",
          "data": {
            "text/html": [
              "<div>\n",
              "<style scoped>\n",
              "    .dataframe tbody tr th:only-of-type {\n",
              "        vertical-align: middle;\n",
              "    }\n",
              "\n",
              "    .dataframe tbody tr th {\n",
              "        vertical-align: top;\n",
              "    }\n",
              "\n",
              "    .dataframe thead th {\n",
              "        text-align: right;\n",
              "    }\n",
              "</style>\n",
              "<table border=\"1\" class=\"dataframe\">\n",
              "  <thead>\n",
              "    <tr style=\"text-align: right;\">\n",
              "      <th></th>\n",
              "      <th>Survived</th>\n",
              "      <th>Pclass</th>\n",
              "      <th>Name</th>\n",
              "      <th>Sex</th>\n",
              "      <th>Age</th>\n",
              "      <th>SibSp</th>\n",
              "      <th>Parch</th>\n",
              "      <th>Ticket</th>\n",
              "      <th>Fare</th>\n",
              "      <th>Cabin</th>\n",
              "      <th>Embarked</th>\n",
              "    </tr>\n",
              "    <tr>\n",
              "      <th>PassengerId</th>\n",
              "      <th></th>\n",
              "      <th></th>\n",
              "      <th></th>\n",
              "      <th></th>\n",
              "      <th></th>\n",
              "      <th></th>\n",
              "      <th></th>\n",
              "      <th></th>\n",
              "      <th></th>\n",
              "      <th></th>\n",
              "      <th></th>\n",
              "    </tr>\n",
              "  </thead>\n",
              "  <tbody>\n",
              "    <tr>\n",
              "      <th>1</th>\n",
              "      <td>0.0</td>\n",
              "      <td>3</td>\n",
              "      <td>Braund, Mr. Owen Harris</td>\n",
              "      <td>male</td>\n",
              "      <td>22.0</td>\n",
              "      <td>1</td>\n",
              "      <td>0</td>\n",
              "      <td>A/5 21171</td>\n",
              "      <td>7.2500</td>\n",
              "      <td>NaN</td>\n",
              "      <td>S</td>\n",
              "    </tr>\n",
              "    <tr>\n",
              "      <th>2</th>\n",
              "      <td>1.0</td>\n",
              "      <td>1</td>\n",
              "      <td>Cumings, Mrs. John Bradley (Florence Briggs Th...</td>\n",
              "      <td>female</td>\n",
              "      <td>38.0</td>\n",
              "      <td>1</td>\n",
              "      <td>0</td>\n",
              "      <td>PC 17599</td>\n",
              "      <td>71.2833</td>\n",
              "      <td>C85</td>\n",
              "      <td>C</td>\n",
              "    </tr>\n",
              "    <tr>\n",
              "      <th>3</th>\n",
              "      <td>1.0</td>\n",
              "      <td>3</td>\n",
              "      <td>Heikkinen, Miss. Laina</td>\n",
              "      <td>female</td>\n",
              "      <td>26.0</td>\n",
              "      <td>0</td>\n",
              "      <td>0</td>\n",
              "      <td>STON/O2. 3101282</td>\n",
              "      <td>7.9250</td>\n",
              "      <td>NaN</td>\n",
              "      <td>S</td>\n",
              "    </tr>\n",
              "    <tr>\n",
              "      <th>4</th>\n",
              "      <td>1.0</td>\n",
              "      <td>1</td>\n",
              "      <td>Futrelle, Mrs. Jacques Heath (Lily May Peel)</td>\n",
              "      <td>female</td>\n",
              "      <td>35.0</td>\n",
              "      <td>1</td>\n",
              "      <td>0</td>\n",
              "      <td>113803</td>\n",
              "      <td>53.1000</td>\n",
              "      <td>C123</td>\n",
              "      <td>S</td>\n",
              "    </tr>\n",
              "    <tr>\n",
              "      <th>5</th>\n",
              "      <td>0.0</td>\n",
              "      <td>3</td>\n",
              "      <td>Allen, Mr. William Henry</td>\n",
              "      <td>male</td>\n",
              "      <td>35.0</td>\n",
              "      <td>0</td>\n",
              "      <td>0</td>\n",
              "      <td>373450</td>\n",
              "      <td>8.0500</td>\n",
              "      <td>NaN</td>\n",
              "      <td>S</td>\n",
              "    </tr>\n",
              "  </tbody>\n",
              "</table>\n",
              "</div>"
            ],
            "text/plain": [
              "             Survived  Pclass  ... Cabin Embarked\n",
              "PassengerId                    ...               \n",
              "1                 0.0       3  ...   NaN        S\n",
              "2                 1.0       1  ...   C85        C\n",
              "3                 1.0       3  ...   NaN        S\n",
              "4                 1.0       1  ...  C123        S\n",
              "5                 0.0       3  ...   NaN        S\n",
              "\n",
              "[5 rows x 11 columns]"
            ]
          },
          "metadata": {
            "tags": []
          },
          "execution_count": 187
        }
      ]
    },
    {
      "cell_type": "code",
      "metadata": {
        "colab": {
          "base_uri": "https://localhost:8080/",
          "height": 269
        },
        "id": "VfqlDN0bfxof",
        "outputId": "58967151-4e5b-4912-a0ed-778f1b39015f"
      },
      "source": [
        "df.tail()"
      ],
      "execution_count": 188,
      "outputs": [
        {
          "output_type": "execute_result",
          "data": {
            "text/html": [
              "<div>\n",
              "<style scoped>\n",
              "    .dataframe tbody tr th:only-of-type {\n",
              "        vertical-align: middle;\n",
              "    }\n",
              "\n",
              "    .dataframe tbody tr th {\n",
              "        vertical-align: top;\n",
              "    }\n",
              "\n",
              "    .dataframe thead th {\n",
              "        text-align: right;\n",
              "    }\n",
              "</style>\n",
              "<table border=\"1\" class=\"dataframe\">\n",
              "  <thead>\n",
              "    <tr style=\"text-align: right;\">\n",
              "      <th></th>\n",
              "      <th>Survived</th>\n",
              "      <th>Pclass</th>\n",
              "      <th>Name</th>\n",
              "      <th>Sex</th>\n",
              "      <th>Age</th>\n",
              "      <th>SibSp</th>\n",
              "      <th>Parch</th>\n",
              "      <th>Ticket</th>\n",
              "      <th>Fare</th>\n",
              "      <th>Cabin</th>\n",
              "      <th>Embarked</th>\n",
              "    </tr>\n",
              "    <tr>\n",
              "      <th>PassengerId</th>\n",
              "      <th></th>\n",
              "      <th></th>\n",
              "      <th></th>\n",
              "      <th></th>\n",
              "      <th></th>\n",
              "      <th></th>\n",
              "      <th></th>\n",
              "      <th></th>\n",
              "      <th></th>\n",
              "      <th></th>\n",
              "      <th></th>\n",
              "    </tr>\n",
              "  </thead>\n",
              "  <tbody>\n",
              "    <tr>\n",
              "      <th>1305</th>\n",
              "      <td>NaN</td>\n",
              "      <td>3</td>\n",
              "      <td>Spector, Mr. Woolf</td>\n",
              "      <td>male</td>\n",
              "      <td>NaN</td>\n",
              "      <td>0</td>\n",
              "      <td>0</td>\n",
              "      <td>A.5. 3236</td>\n",
              "      <td>8.0500</td>\n",
              "      <td>NaN</td>\n",
              "      <td>S</td>\n",
              "    </tr>\n",
              "    <tr>\n",
              "      <th>1306</th>\n",
              "      <td>NaN</td>\n",
              "      <td>1</td>\n",
              "      <td>Oliva y Ocana, Dona. Fermina</td>\n",
              "      <td>female</td>\n",
              "      <td>39.0</td>\n",
              "      <td>0</td>\n",
              "      <td>0</td>\n",
              "      <td>PC 17758</td>\n",
              "      <td>108.9000</td>\n",
              "      <td>C105</td>\n",
              "      <td>C</td>\n",
              "    </tr>\n",
              "    <tr>\n",
              "      <th>1307</th>\n",
              "      <td>NaN</td>\n",
              "      <td>3</td>\n",
              "      <td>Saether, Mr. Simon Sivertsen</td>\n",
              "      <td>male</td>\n",
              "      <td>38.5</td>\n",
              "      <td>0</td>\n",
              "      <td>0</td>\n",
              "      <td>SOTON/O.Q. 3101262</td>\n",
              "      <td>7.2500</td>\n",
              "      <td>NaN</td>\n",
              "      <td>S</td>\n",
              "    </tr>\n",
              "    <tr>\n",
              "      <th>1308</th>\n",
              "      <td>NaN</td>\n",
              "      <td>3</td>\n",
              "      <td>Ware, Mr. Frederick</td>\n",
              "      <td>male</td>\n",
              "      <td>NaN</td>\n",
              "      <td>0</td>\n",
              "      <td>0</td>\n",
              "      <td>359309</td>\n",
              "      <td>8.0500</td>\n",
              "      <td>NaN</td>\n",
              "      <td>S</td>\n",
              "    </tr>\n",
              "    <tr>\n",
              "      <th>1309</th>\n",
              "      <td>NaN</td>\n",
              "      <td>3</td>\n",
              "      <td>Peter, Master. Michael J</td>\n",
              "      <td>male</td>\n",
              "      <td>NaN</td>\n",
              "      <td>1</td>\n",
              "      <td>1</td>\n",
              "      <td>2668</td>\n",
              "      <td>22.3583</td>\n",
              "      <td>NaN</td>\n",
              "      <td>C</td>\n",
              "    </tr>\n",
              "  </tbody>\n",
              "</table>\n",
              "</div>"
            ],
            "text/plain": [
              "             Survived  Pclass  ... Cabin Embarked\n",
              "PassengerId                    ...               \n",
              "1305              NaN       3  ...   NaN        S\n",
              "1306              NaN       1  ...  C105        C\n",
              "1307              NaN       3  ...   NaN        S\n",
              "1308              NaN       3  ...   NaN        S\n",
              "1309              NaN       3  ...   NaN        C\n",
              "\n",
              "[5 rows x 11 columns]"
            ]
          },
          "metadata": {
            "tags": []
          },
          "execution_count": 188
        }
      ]
    },
    {
      "cell_type": "code",
      "metadata": {
        "id": "lObBhEpQgLM7"
      },
      "source": [
        "# A nice data dictionary will help us better understand the data\n",
        "\n",
        "data ={\n",
        "'Variable' : ['survival', 'pclass','sex','Age','sibsp','parch','ticket','fare','cabin','embarked'],\n",
        "    'Definition' : ['Survival','Ticket class','Sex','Age in years','# of siblings / spouses aboard the Titanic',\n",
        "                    '# of parents / children aboard the Titanic','Ticket number','Passenger fare','Cabin number',\n",
        "                   'Port of Embarkation']}\n",
        "\n",
        "Data_Dictionary = pd.DataFrame(data = data,columns=['Variable','Definition','Key'])\n",
        "Data_Dictionary.fillna(' ', inplace=True)\n",
        "\n",
        "Data_Dictionary.Key[0] = 'No -> 0, Yes -> 1'\n",
        "Data_Dictionary.Key[1] = '1 = 1st, 2 = 2nd, 3 = 3rd'\n",
        "Data_Dictionary.Key[9] = 'C = Cherbourg, Q = Queenstown, S = Southampton'"
      ],
      "execution_count": 189,
      "outputs": []
    },
    {
      "cell_type": "code",
      "metadata": {
        "colab": {
          "base_uri": "https://localhost:8080/",
          "height": 359
        },
        "id": "_cd8ov3EgQj8",
        "outputId": "0efbd682-f732-467b-b225-972860b084f7"
      },
      "source": [
        "Data_Dictionary"
      ],
      "execution_count": 190,
      "outputs": [
        {
          "output_type": "execute_result",
          "data": {
            "text/html": [
              "<div>\n",
              "<style scoped>\n",
              "    .dataframe tbody tr th:only-of-type {\n",
              "        vertical-align: middle;\n",
              "    }\n",
              "\n",
              "    .dataframe tbody tr th {\n",
              "        vertical-align: top;\n",
              "    }\n",
              "\n",
              "    .dataframe thead th {\n",
              "        text-align: right;\n",
              "    }\n",
              "</style>\n",
              "<table border=\"1\" class=\"dataframe\">\n",
              "  <thead>\n",
              "    <tr style=\"text-align: right;\">\n",
              "      <th></th>\n",
              "      <th>Variable</th>\n",
              "      <th>Definition</th>\n",
              "      <th>Key</th>\n",
              "    </tr>\n",
              "  </thead>\n",
              "  <tbody>\n",
              "    <tr>\n",
              "      <th>0</th>\n",
              "      <td>survival</td>\n",
              "      <td>Survival</td>\n",
              "      <td>No -&gt; 0, Yes -&gt; 1</td>\n",
              "    </tr>\n",
              "    <tr>\n",
              "      <th>1</th>\n",
              "      <td>pclass</td>\n",
              "      <td>Ticket class</td>\n",
              "      <td>1 = 1st, 2 = 2nd, 3 = 3rd</td>\n",
              "    </tr>\n",
              "    <tr>\n",
              "      <th>2</th>\n",
              "      <td>sex</td>\n",
              "      <td>Sex</td>\n",
              "      <td></td>\n",
              "    </tr>\n",
              "    <tr>\n",
              "      <th>3</th>\n",
              "      <td>Age</td>\n",
              "      <td>Age in years</td>\n",
              "      <td></td>\n",
              "    </tr>\n",
              "    <tr>\n",
              "      <th>4</th>\n",
              "      <td>sibsp</td>\n",
              "      <td># of siblings / spouses aboard the Titanic</td>\n",
              "      <td></td>\n",
              "    </tr>\n",
              "    <tr>\n",
              "      <th>5</th>\n",
              "      <td>parch</td>\n",
              "      <td># of parents / children aboard the Titanic</td>\n",
              "      <td></td>\n",
              "    </tr>\n",
              "    <tr>\n",
              "      <th>6</th>\n",
              "      <td>ticket</td>\n",
              "      <td>Ticket number</td>\n",
              "      <td></td>\n",
              "    </tr>\n",
              "    <tr>\n",
              "      <th>7</th>\n",
              "      <td>fare</td>\n",
              "      <td>Passenger fare</td>\n",
              "      <td></td>\n",
              "    </tr>\n",
              "    <tr>\n",
              "      <th>8</th>\n",
              "      <td>cabin</td>\n",
              "      <td>Cabin number</td>\n",
              "      <td></td>\n",
              "    </tr>\n",
              "    <tr>\n",
              "      <th>9</th>\n",
              "      <td>embarked</td>\n",
              "      <td>Port of Embarkation</td>\n",
              "      <td>C = Cherbourg, Q = Queenstown, S = Southampton</td>\n",
              "    </tr>\n",
              "  </tbody>\n",
              "</table>\n",
              "</div>"
            ],
            "text/plain": [
              "   Variable  ...                                             Key\n",
              "0  survival  ...                               No -> 0, Yes -> 1\n",
              "1    pclass  ...                       1 = 1st, 2 = 2nd, 3 = 3rd\n",
              "2       sex  ...                                                \n",
              "3       Age  ...                                                \n",
              "4     sibsp  ...                                                \n",
              "5     parch  ...                                                \n",
              "6    ticket  ...                                                \n",
              "7      fare  ...                                                \n",
              "8     cabin  ...                                                \n",
              "9  embarked  ...  C = Cherbourg, Q = Queenstown, S = Southampton\n",
              "\n",
              "[10 rows x 3 columns]"
            ]
          },
          "metadata": {
            "tags": []
          },
          "execution_count": 190
        }
      ]
    },
    {
      "cell_type": "code",
      "metadata": {
        "colab": {
          "base_uri": "https://localhost:8080/",
          "height": 297
        },
        "id": "ZXFdqYzSlMpL",
        "outputId": "d1358dec-908a-44a8-d12a-e855f375e98e"
      },
      "source": [
        "df.describe()"
      ],
      "execution_count": 191,
      "outputs": [
        {
          "output_type": "execute_result",
          "data": {
            "text/html": [
              "<div>\n",
              "<style scoped>\n",
              "    .dataframe tbody tr th:only-of-type {\n",
              "        vertical-align: middle;\n",
              "    }\n",
              "\n",
              "    .dataframe tbody tr th {\n",
              "        vertical-align: top;\n",
              "    }\n",
              "\n",
              "    .dataframe thead th {\n",
              "        text-align: right;\n",
              "    }\n",
              "</style>\n",
              "<table border=\"1\" class=\"dataframe\">\n",
              "  <thead>\n",
              "    <tr style=\"text-align: right;\">\n",
              "      <th></th>\n",
              "      <th>Survived</th>\n",
              "      <th>Pclass</th>\n",
              "      <th>Age</th>\n",
              "      <th>SibSp</th>\n",
              "      <th>Parch</th>\n",
              "      <th>Fare</th>\n",
              "    </tr>\n",
              "  </thead>\n",
              "  <tbody>\n",
              "    <tr>\n",
              "      <th>count</th>\n",
              "      <td>891.000000</td>\n",
              "      <td>1309.000000</td>\n",
              "      <td>1046.000000</td>\n",
              "      <td>1309.000000</td>\n",
              "      <td>1309.000000</td>\n",
              "      <td>1308.000000</td>\n",
              "    </tr>\n",
              "    <tr>\n",
              "      <th>mean</th>\n",
              "      <td>0.383838</td>\n",
              "      <td>2.294882</td>\n",
              "      <td>29.881138</td>\n",
              "      <td>0.498854</td>\n",
              "      <td>0.385027</td>\n",
              "      <td>33.295479</td>\n",
              "    </tr>\n",
              "    <tr>\n",
              "      <th>std</th>\n",
              "      <td>0.486592</td>\n",
              "      <td>0.837836</td>\n",
              "      <td>14.413493</td>\n",
              "      <td>1.041658</td>\n",
              "      <td>0.865560</td>\n",
              "      <td>51.758668</td>\n",
              "    </tr>\n",
              "    <tr>\n",
              "      <th>min</th>\n",
              "      <td>0.000000</td>\n",
              "      <td>1.000000</td>\n",
              "      <td>0.170000</td>\n",
              "      <td>0.000000</td>\n",
              "      <td>0.000000</td>\n",
              "      <td>0.000000</td>\n",
              "    </tr>\n",
              "    <tr>\n",
              "      <th>25%</th>\n",
              "      <td>0.000000</td>\n",
              "      <td>2.000000</td>\n",
              "      <td>21.000000</td>\n",
              "      <td>0.000000</td>\n",
              "      <td>0.000000</td>\n",
              "      <td>7.895800</td>\n",
              "    </tr>\n",
              "    <tr>\n",
              "      <th>50%</th>\n",
              "      <td>0.000000</td>\n",
              "      <td>3.000000</td>\n",
              "      <td>28.000000</td>\n",
              "      <td>0.000000</td>\n",
              "      <td>0.000000</td>\n",
              "      <td>14.454200</td>\n",
              "    </tr>\n",
              "    <tr>\n",
              "      <th>75%</th>\n",
              "      <td>1.000000</td>\n",
              "      <td>3.000000</td>\n",
              "      <td>39.000000</td>\n",
              "      <td>1.000000</td>\n",
              "      <td>0.000000</td>\n",
              "      <td>31.275000</td>\n",
              "    </tr>\n",
              "    <tr>\n",
              "      <th>max</th>\n",
              "      <td>1.000000</td>\n",
              "      <td>3.000000</td>\n",
              "      <td>80.000000</td>\n",
              "      <td>8.000000</td>\n",
              "      <td>9.000000</td>\n",
              "      <td>512.329200</td>\n",
              "    </tr>\n",
              "  </tbody>\n",
              "</table>\n",
              "</div>"
            ],
            "text/plain": [
              "         Survived       Pclass  ...        Parch         Fare\n",
              "count  891.000000  1309.000000  ...  1309.000000  1308.000000\n",
              "mean     0.383838     2.294882  ...     0.385027    33.295479\n",
              "std      0.486592     0.837836  ...     0.865560    51.758668\n",
              "min      0.000000     1.000000  ...     0.000000     0.000000\n",
              "25%      0.000000     2.000000  ...     0.000000     7.895800\n",
              "50%      0.000000     3.000000  ...     0.000000    14.454200\n",
              "75%      1.000000     3.000000  ...     0.000000    31.275000\n",
              "max      1.000000     3.000000  ...     9.000000   512.329200\n",
              "\n",
              "[8 rows x 6 columns]"
            ]
          },
          "metadata": {
            "tags": []
          },
          "execution_count": 191
        }
      ]
    },
    {
      "cell_type": "markdown",
      "metadata": {
        "id": "Sqp14awmZU13"
      },
      "source": [
        "# DATA CLEANING"
      ]
    },
    {
      "cell_type": "markdown",
      "metadata": {
        "id": "x0vKm90yZZbH"
      },
      "source": [
        "## ***Validity***"
      ]
    },
    {
      "cell_type": "code",
      "metadata": {
        "id": "V42jhtObfIA8"
      },
      "source": [
        "#dropping unnecessary columns\n",
        "df.drop([\"Name\",\"Ticket\"],axis=1,inplace=True)"
      ],
      "execution_count": 192,
      "outputs": []
    },
    {
      "cell_type": "markdown",
      "metadata": {
        "id": "NWH00sGXQBhI"
      },
      "source": [
        "***Visualizing outliers***"
      ]
    },
    {
      "cell_type": "code",
      "metadata": {
        "colab": {
          "base_uri": "https://localhost:8080/",
          "height": 426
        },
        "id": "dAy_PPmSHEFl",
        "outputId": "3c8a4987-d787-4976-e487-14100bd513b5"
      },
      "source": [
        "sel = ['Survived','Pclass','Age','SibSp','Parch','Fare']\n",
        "plt.figure(figsize=(10,5))\n",
        "df.boxplot(sel)\n",
        "plt.title(\"Visualizing the outliers which are in numerical columns of the dataset\")\n",
        "plt.show()\n"
      ],
      "execution_count": 195,
      "outputs": [
        {
          "output_type": "stream",
          "text": [
            "/usr/local/lib/python3.7/dist-packages/numpy/core/_asarray.py:83: VisibleDeprecationWarning:\n",
            "\n",
            "Creating an ndarray from ragged nested sequences (which is a list-or-tuple of lists-or-tuples-or ndarrays with different lengths or shapes) is deprecated. If you meant to do this, you must specify 'dtype=object' when creating the ndarray\n",
            "\n"
          ],
          "name": "stderr"
        },
        {
          "output_type": "display_data",
          "data": {
            "image/png": "[encoded data removed]",
            "text/plain": [
              "<Figure size 720x360 with 1 Axes>"
            ]
          },
          "metadata": {
            "tags": [],
            "needs_background": "light"
          }
        }
      ]
    },
    {
      "cell_type": "markdown",
      "metadata": {
        "id": "4UGoNmIwZe7a"
      },
      "source": [
        "## ***Completeness***"
      ]
    },
    {
      "cell_type": "code",
      "metadata": {
        "colab": {
          "base_uri": "https://localhost:8080/"
        },
        "id": "AFa-KI2yhiZb",
        "outputId": "fbff4243-1e8c-47ba-a819-8e96f936768b"
      },
      "source": [
        "#checking for null values\n",
        "df.isnull().sum()"
      ],
      "execution_count": 160,
      "outputs": [
        {
          "output_type": "execute_result",
          "data": {
            "text/plain": [
              "Survived     418\n",
              "Pclass         0\n",
              "Sex            0\n",
              "Age          263\n",
              "SibSp          0\n",
              "Parch          0\n",
              "Fare           1\n",
              "Cabin       1014\n",
              "Embarked       2\n",
              "dtype: int64"
            ]
          },
          "metadata": {
            "tags": []
          },
          "execution_count": 160
        }
      ]
    },
    {
      "cell_type": "code",
      "metadata": {
        "id": "146ajJHmh0QO"
      },
      "source": [
        "#dealing with the null values\n",
        "df['Survived'] = df['Survived'].fillna(df['Survived'].mode()[0])\n",
        "df['Fare'] = df['Fare'].fillna(df['Fare'].mode()[0])\n",
        "df['Age'] = df['Age'].fillna(df['Age'].mode()[0])\n",
        "df['Cabin'].fillna(df['Cabin'].value_counts().index[0],inplace=True)\n",
        "df['Embarked'].fillna(df['Embarked'].value_counts().index[0],inplace=True)"
      ],
      "execution_count": 161,
      "outputs": []
    },
    {
      "cell_type": "code",
      "metadata": {
        "colab": {
          "base_uri": "https://localhost:8080/"
        },
        "id": "Nk5SqXctizmv",
        "outputId": "1b035b75-1bb3-45d9-c00f-8d10f8749ed7"
      },
      "source": [
        "#checking if i have dealt with all null values\n",
        "df.isnull().sum()"
      ],
      "execution_count": 162,
      "outputs": [
        {
          "output_type": "execute_result",
          "data": {
            "text/plain": [
              "Survived    0\n",
              "Pclass      0\n",
              "Sex         0\n",
              "Age         0\n",
              "SibSp       0\n",
              "Parch       0\n",
              "Fare        0\n",
              "Cabin       0\n",
              "Embarked    0\n",
              "dtype: int64"
            ]
          },
          "metadata": {
            "tags": []
          },
          "execution_count": 162
        }
      ]
    },
    {
      "cell_type": "markdown",
      "metadata": {
        "id": "6bAQ8uj0ZkBZ"
      },
      "source": [
        "## ***Consistency***"
      ]
    },
    {
      "cell_type": "code",
      "metadata": {
        "colab": {
          "base_uri": "https://localhost:8080/"
        },
        "id": "Yxw8t9RTjVRw",
        "outputId": "4be15ac0-a65f-4389-f499-bb4c5e84b235"
      },
      "source": [
        "#checking for duplicates\n",
        "df.duplicated().sum()"
      ],
      "execution_count": 163,
      "outputs": [
        {
          "output_type": "execute_result",
          "data": {
            "text/plain": [
              "199"
            ]
          },
          "metadata": {
            "tags": []
          },
          "execution_count": 163
        }
      ]
    },
    {
      "cell_type": "markdown",
      "metadata": {
        "id": "wwUR_CU7ZsF2"
      },
      "source": [
        "## ***Uniformity***"
      ]
    },
    {
      "cell_type": "code",
      "metadata": {
        "id": "FGEaq82lZNrD"
      },
      "source": [
        "#removing white-spaces in columns and converting them to lowercase\n",
        "df.columns =df.columns.str.strip().str.lower()"
      ],
      "execution_count": 164,
      "outputs": []
    },
    {
      "cell_type": "markdown",
      "metadata": {
        "id": "FSPpdnNsk3mG"
      },
      "source": [
        "# EXPLORATORY DATA ANALYSIS"
      ]
    },
    {
      "cell_type": "markdown",
      "metadata": {
        "id": "KYWswJx6k8Pn"
      },
      "source": [
        "## ***Univariate analysis***"
      ]
    },
    {
      "cell_type": "markdown",
      "metadata": {
        "id": "mmS8rwbylCzQ"
      },
      "source": [
        "### ***Categorical Variables***"
      ]
    },
    {
      "cell_type": "markdown",
      "metadata": {
        "id": "Jy_EcmuEixgi"
      },
      "source": [
        "#### FREQUENCY TABLE"
      ]
    },
    {
      "cell_type": "code",
      "metadata": {
        "colab": {
          "base_uri": "https://localhost:8080/"
        },
        "id": "mZ6qIWH1k0I6",
        "outputId": "4da5d64a-84fc-496e-d931-2296d1be8f7b"
      },
      "source": [
        "#frequency table\n",
        "print(\"The frequency table for Sex is:\")\n",
        "print(df.sex.value_counts())\n",
        "print(\"\\n\")\n",
        "print('The frequency table for Embarked is')\n",
        "df.embarked.value_counts()"
      ],
      "execution_count": 165,
      "outputs": [
        {
          "output_type": "stream",
          "text": [
            "The frequency table for Sex is:\n",
            "male      843\n",
            "female    466\n",
            "Name: sex, dtype: int64\n",
            "\n",
            "\n",
            "The frequency table for Embarked is\n"
          ],
          "name": "stdout"
        },
        {
          "output_type": "execute_result",
          "data": {
            "text/plain": [
              "S    916\n",
              "C    270\n",
              "Q    123\n",
              "Name: embarked, dtype: int64"
            ]
          },
          "metadata": {
            "tags": []
          },
          "execution_count": 165
        }
      ]
    },
    {
      "cell_type": "markdown",
      "metadata": {
        "id": "cHeuY8Jti64h"
      },
      "source": [
        "#### PIE CHARTS"
      ]
    },
    {
      "cell_type": "markdown",
      "metadata": {
        "id": "hAjbiP83i_c2"
      },
      "source": [
        "##### *** pie chart for distribution of sex(male,female)***"
      ]
    },
    {
      "cell_type": "code",
      "metadata": {
        "colab": {
          "base_uri": "https://localhost:8080/",
          "height": 336
        },
        "id": "OxBLbfQUnj-r",
        "outputId": "56979d85-3e23-471c-8536-4f16ca327dc2"
      },
      "source": [
        "grouped = df.sex.value_counts().reset_index(name= \"counts\")\n",
        "\n",
        "fig, ax = plt.subplots(figsize=(10,5))\n",
        "plt.rcParams['font.sans-serif'] = 'Arial'\n",
        "plt.rcParams['font.family'] = 'sans-serif'\n",
        "plt.rcParams['text.color'] = 'black'\n",
        "plt.rcParams['axes.labelcolor']= 'black'\n",
        "plt.rcParams['xtick.color'] = '#909090'\n",
        "plt.rcParams['ytick.color'] = '#909090'\n",
        "plt.rcParams['font.size']=12\n",
        "\n",
        "color_palette_list = ['green','purple']\n",
        "plt.figure(figsize=(20,5))\n",
        "ax.pie(grouped['counts'],  \n",
        "       colors=color_palette_list[0:2], autopct='%1.2f%%', \n",
        "       shadow=False, startangle=0)\n",
        "ax.axis('equal')\n",
        "ax.set_title(\"Frequency Distribution of sex\")\n",
        "ax.legend(labels=grouped['index'],frameon=False, bbox_to_anchor=(1.5,0.8))\n",
        "plt.show()"
      ],
      "execution_count": 166,
      "outputs": [
        {
          "output_type": "display_data",
          "data": {
            "image/png": "[encoded data removed]",
            "text/plain": [
              "<Figure size 720x360 with 1 Axes>"
            ]
          },
          "metadata": {
            "tags": []
          }
        },
        {
          "output_type": "display_data",
          "data": {
            "text/plain": [
              "<Figure size 1440x360 with 0 Axes>"
            ]
          },
          "metadata": {
            "tags": []
          }
        }
      ]
    },
    {
      "cell_type": "markdown",
      "metadata": {
        "id": "MQBW9O1-jUh9"
      },
      "source": [
        "##### *** pie chart for distribution of embarked(C,Q,S)***\n",
        "\n",
        "\n",
        "\n"
      ]
    },
    {
      "cell_type": "code",
      "metadata": {
        "colab": {
          "base_uri": "https://localhost:8080/",
          "height": 336
        },
        "id": "sYiOFtdstF2d",
        "outputId": "469f63c7-4afb-4cb7-f9c8-0b58222b8678"
      },
      "source": [
        "fig, ax = plt.subplots(figsize=(10,5))\n",
        "plt.rcParams['font.sans-serif'] = 'Arial'\n",
        "plt.rcParams['font.family'] = 'sans-serif'\n",
        "plt.rcParams['text.color'] = 'black'\n",
        "plt.rcParams['axes.labelcolor']= 'black'\n",
        "plt.rcParams['xtick.color'] = '#909090'\n",
        "plt.rcParams['ytick.color'] = '#909090'\n",
        "plt.rcParams['font.size']=12\n",
        "\n",
        "group = df.embarked.value_counts().reset_index(name= \"counts\")\n",
        "color_palette_list = ['green','purple','grey']\n",
        "plt.figure(figsize=(20,5))\n",
        "ax.pie(group['counts'],  \n",
        "       colors=color_palette_list[0:3], autopct='%1.2f%%', \n",
        "       shadow=False, startangle=0)\n",
        "ax.axis('equal')\n",
        "ax.set_title(\"Frequency Distribution of Embarked\")\n",
        "ax.legend(labels=group['index'],frameon=False, bbox_to_anchor=(1.5,0.8))\n",
        "plt.show()"
      ],
      "execution_count": 167,
      "outputs": [
        {
          "output_type": "display_data",
          "data": {
            "image/png": "[encoded data removed]",
            "text/plain": [
              "<Figure size 720x360 with 1 Axes>"
            ]
          },
          "metadata": {
            "tags": []
          }
        },
        {
          "output_type": "display_data",
          "data": {
            "text/plain": [
              "<Figure size 1440x360 with 0 Axes>"
            ]
          },
          "metadata": {
            "tags": []
          }
        }
      ]
    },
    {
      "cell_type": "markdown",
      "metadata": {
        "id": "00FIypvJvICN"
      },
      "source": [
        "### ***Numerical Variables***"
      ]
    },
    {
      "cell_type": "markdown",
      "metadata": {
        "id": "y8P5qJ68jwsH"
      },
      "source": [
        "#### COUNTPLOT"
      ]
    },
    {
      "cell_type": "code",
      "metadata": {
        "colab": {
          "base_uri": "https://localhost:8080/",
          "height": 519
        },
        "id": "FJwM2i03vfbh",
        "outputId": "04bec0ea-186b-415d-c7fc-1c4d72aa51f8"
      },
      "source": [
        "plt.figure(figsize=(12,8))\n",
        "sns.set_theme(style='whitegrid')\n",
        "sns.countplot(x=df.survived, palette='Set3')"
      ],
      "execution_count": 168,
      "outputs": [
        {
          "output_type": "execute_result",
          "data": {
            "text/plain": [
              "<matplotlib.axes._subplots.AxesSubplot at 0x7ff37cd84dd0>"
            ]
          },
          "metadata": {
            "tags": []
          },
          "execution_count": 168
        },
        {
          "output_type": "display_data",
          "data": {
            "image/png": "[encoded data removed]",
            "text/plain": [
              "<Figure size 864x576 with 1 Axes>"
            ]
          },
          "metadata": {
            "tags": [],
            "needs_background": "light"
          }
        }
      ]
    },
    {
      "cell_type": "markdown",
      "metadata": {
        "id": "LnSKvRyGxWuT"
      },
      "source": [
        "## ***Bivariate Analysis***"
      ]
    },
    {
      "cell_type": "markdown",
      "metadata": {
        "id": "Z7Coyk-2j_wh"
      },
      "source": [
        "### ***Categorical to Numerical***"
      ]
    },
    {
      "cell_type": "markdown",
      "metadata": {
        "id": "DFb2qqu6kHT0"
      },
      "source": [
        "#### COUNTPLOT"
      ]
    },
    {
      "cell_type": "markdown",
      "metadata": {
        "id": "BSRFr12tkLWR"
      },
      "source": [
        "##### ***Count of those survived to sex***"
      ]
    },
    {
      "cell_type": "code",
      "metadata": {
        "colab": {
          "base_uri": "https://localhost:8080/",
          "height": 519
        },
        "id": "k2tRIVWEnL6b",
        "outputId": "c3682f23-760b-4d48-9dde-dd017e791cc4"
      },
      "source": [
        "#survived per genger\n",
        "plt.figure(figsize=(12,8))\n",
        "sns.set_theme(style='whitegrid')\n",
        "sns.countplot(x=df.survived, hue=df.sex, palette='Set3')"
      ],
      "execution_count": 169,
      "outputs": [
        {
          "output_type": "execute_result",
          "data": {
            "text/plain": [
              "<matplotlib.axes._subplots.AxesSubplot at 0x7ff37cb440d0>"
            ]
          },
          "metadata": {
            "tags": []
          },
          "execution_count": 169
        },
        {
          "output_type": "display_data",
          "data": {
            "image/png": "[encoded data removed]",
            "text/plain": [
              "<Figure size 864x576 with 1 Axes>"
            ]
          },
          "metadata": {
            "tags": []
          }
        }
      ]
    },
    {
      "cell_type": "markdown",
      "metadata": {
        "id": "cjT_7fkvK0jg"
      },
      "source": [
        "### ***Numerical to numerical***"
      ]
    },
    {
      "cell_type": "markdown",
      "metadata": {
        "id": "XmSWWJ40K7X9"
      },
      "source": [
        "#### BOXPLOT"
      ]
    },
    {
      "cell_type": "code",
      "metadata": {
        "colab": {
          "base_uri": "https://localhost:8080/",
          "height": 376
        },
        "id": "exKe6JTDJMHg",
        "outputId": "3da084ad-af7d-4171-8081-d329c7edf4c0"
      },
      "source": [
        "#Bar plot of survived to age\n",
        "plt.figure(figsize=(10,5))\n",
        "sns.boxplot(x='survived', y='age', data=df)\n",
        "plt.title('Bar chart for survived to age', fontweight='bold',fontsize=15)\n",
        "plt.xlabel('survived',fontweight='bold',fontsize=15)\n",
        "plt.ylabel('age',fontweight='bold',fontsize=15)"
      ],
      "execution_count": 171,
      "outputs": [
        {
          "output_type": "execute_result",
          "data": {
            "text/plain": [
              "Text(0, 0.5, 'age')"
            ]
          },
          "metadata": {
            "tags": []
          },
          "execution_count": 171
        },
        {
          "output_type": "display_data",
          "data": {
            "image/png": "[encoded data removed]",
            "text/plain": [
              "<Figure size 720x360 with 1 Axes>"
            ]
          },
          "metadata": {
            "tags": []
          }
        }
      ]
    },
    {
      "cell_type": "markdown",
      "metadata": {
        "id": "La_S-mQD2V1I"
      },
      "source": [
        "### ***Categorical to Categorical***"
      ]
    },
    {
      "cell_type": "markdown",
      "metadata": {
        "id": "_Ft1Zy3Bkgwq"
      },
      "source": [
        "#### STACKED COLUMN CHART"
      ]
    },
    {
      "cell_type": "markdown",
      "metadata": {
        "id": "-2YdNjWekmd6"
      },
      "source": [
        "##### ***Stacked chart of sex to embarked***"
      ]
    },
    {
      "cell_type": "code",
      "metadata": {
        "colab": {
          "base_uri": "https://localhost:8080/",
          "height": 385
        },
        "id": "7MRiVI_G2uLr",
        "outputId": "fe0a9e4b-5b02-46d6-e611-ef276d16fe0f"
      },
      "source": [
        "#Stacked bar chart of weekday with day type\n",
        "pd.crosstab(df['sex'],df['embarked']).plot(kind=\"bar\",stacked=True,figsize=(10,5) , color=['blue','green','grey'])"
      ],
      "execution_count": 94,
      "outputs": [
        {
          "output_type": "execute_result",
          "data": {
            "text/plain": [
              "<matplotlib.axes._subplots.AxesSubplot at 0x7ff3895e8610>"
            ]
          },
          "metadata": {
            "tags": []
          },
          "execution_count": 94
        },
        {
          "output_type": "display_data",
          "data": {
            "image/png": "[encoded data removed]",
            "text/plain": [
              "<Figure size 720x360 with 1 Axes>"
            ]
          },
          "metadata": {
            "tags": []
          }
        }
      ]
    },
    {
      "cell_type": "markdown",
      "metadata": {
        "id": "1oNsE7xrnhKw"
      },
      "source": [
        "#### HEAT MAP"
      ]
    },
    {
      "cell_type": "code",
      "metadata": {
        "id": "S9EZcYwMmIGb"
      },
      "source": [
        "from sklearn import preprocessing\n",
        "from sklearn.preprocessing import LabelEncoder\n",
        "# label_encoder object knows how to understand word labels.\n",
        "label_encoder = preprocessing.LabelEncoder()\n",
        "  \n",
        "# Encode labels in columns\n",
        "df['sex']= label_encoder.fit_transform(df['sex'])"
      ],
      "execution_count": 95,
      "outputs": []
    },
    {
      "cell_type": "code",
      "metadata": {
        "colab": {
          "base_uri": "https://localhost:8080/",
          "height": 598
        },
        "id": "unhS63aClotH",
        "outputId": "cd927d9c-dce2-4dae-adff-1165d5cc66b3"
      },
      "source": [
        "# plotting the correlation using a heatmap\n",
        "plt.figure(figsize=(10,10))\n",
        "sns.heatmap(df.corr(),annot=True)\n",
        "plt.show()"
      ],
      "execution_count": 96,
      "outputs": [
        {
          "output_type": "display_data",
          "data": {
            "image/png": "[encoded data removed]",
            "text/plain": [
              "<Figure size 720x720 with 2 Axes>"
            ]
          },
          "metadata": {
            "tags": []
          }
        }
      ]
    },
    {
      "cell_type": "markdown",
      "metadata": {
        "id": "AjeORLvfn2e3"
      },
      "source": [
        "#### PAIRPLOT"
      ]
    },
    {
      "cell_type": "code",
      "metadata": {
        "colab": {
          "base_uri": "https://localhost:8080/",
          "height": 726
        },
        "id": "wk_anugKmsc-",
        "outputId": "f5253c8a-d8d6-41d3-d4d6-21954770722e"
      },
      "source": [
        "#select columns\n",
        "col = df[['survived','pclass','sex','age','fare']]\n",
        "#create pairplot\n",
        "sns.pairplot(col)\n",
        "plt.title(\"Pairplot\")\n",
        "plt.show()"
      ],
      "execution_count": 114,
      "outputs": [
        {
          "output_type": "display_data",
          "data": {
            "image/png": "[encoded data removed]",
            "text/plain": [
              "<Figure size 720x720 with 20 Axes>"
            ]
          },
          "metadata": {
            "tags": [],
            "needs_background": "light"
          }
        }
      ]
    },
    {
      "cell_type": "markdown",
      "metadata": {
        "id": "NQW3R1dwofda"
      },
      "source": [
        "# IMPLEMENTING THE SOLUTION"
      ]
    },
    {
      "cell_type": "markdown",
      "metadata": {
        "id": "kkS07Aw3rXcF"
      },
      "source": [
        "## BUILDING THE MODEL USING KNN"
      ]
    },
    {
      "cell_type": "markdown",
      "metadata": {
        "id": "q-BLtL8Dx_Lp"
      },
      "source": [
        "###1) ***Splitting into 80-20***"
      ]
    },
    {
      "cell_type": "markdown",
      "metadata": {
        "id": "wHODhxukqicK"
      },
      "source": [
        "#### ***Label encoding***"
      ]
    },
    {
      "cell_type": "code",
      "metadata": {
        "id": "R5AfD_wBohJl"
      },
      "source": [
        "from sklearn import preprocessing\n",
        "from sklearn.preprocessing import LabelEncoder\n",
        "# label_encoder object knows how to understand word labels.\n",
        "label_encoder = preprocessing.LabelEncoder()\n",
        "  \n",
        "# Encode labels in columns\n",
        "df['cabin']= label_encoder.fit_transform(df['cabin'])\n",
        "df['embarked']= label_encoder.fit_transform(df['embarked'])"
      ],
      "execution_count": 34,
      "outputs": []
    },
    {
      "cell_type": "markdown",
      "metadata": {
        "id": "EBrzkqMEq-av"
      },
      "source": [
        "#### ***Importing required libraries***"
      ]
    },
    {
      "cell_type": "code",
      "metadata": {
        "id": "KUv3iXLfrtTo"
      },
      "source": [
        "#import libraries reqiured to build the model\n",
        "from sklearn.model_selection import train_test_split\n",
        "from sklearn.neighbors import KNeighborsRegressor\n",
        "from sklearn.metrics import mean_squared_error"
      ],
      "execution_count": 35,
      "outputs": []
    },
    {
      "cell_type": "markdown",
      "metadata": {
        "id": "yIv6VZlxr-ag"
      },
      "source": [
        "#### ***Data Preparation***"
      ]
    },
    {
      "cell_type": "code",
      "metadata": {
        "id": "kjV35sTcrye2"
      },
      "source": [
        "#Data preparation\n",
        "X = df.drop('survived',axis = 1)\n",
        "y=df['survived']"
      ],
      "execution_count": 36,
      "outputs": []
    },
    {
      "cell_type": "markdown",
      "metadata": {
        "id": "vFJuJ8gruX7B"
      },
      "source": [
        "##### ***Splitting our data***"
      ]
    },
    {
      "cell_type": "code",
      "metadata": {
        "id": "0Tck3ELuuV_3"
      },
      "source": [
        "#splitting our data in 80-20\n",
        "X_train, X_test, y_train, y_test = train_test_split(X, y, test_size=0.2)"
      ],
      "execution_count": 37,
      "outputs": []
    },
    {
      "cell_type": "markdown",
      "metadata": {
        "id": "hCR_BTS9tekN"
      },
      "source": [
        "##### ***Feature Scaling***"
      ]
    },
    {
      "cell_type": "code",
      "metadata": {
        "id": "zuCjhC1AtUhM"
      },
      "source": [
        "# Feature Scaling\n",
        "# it is good practice to scale the features \n",
        "# so that all of them can be uniformly evaluated.\n",
        "\n",
        "from sklearn.preprocessing import StandardScaler\n",
        "scaler = StandardScaler()\n",
        "scaler.fit(X_train)\n",
        "\n",
        "X_train = scaler.transform(X_train)\n",
        "X_test = scaler.transform(X_test)"
      ],
      "execution_count": 38,
      "outputs": []
    },
    {
      "cell_type": "markdown",
      "metadata": {
        "id": "5sFggjG8t9tU"
      },
      "source": [
        "##### ***Training our data***"
      ]
    },
    {
      "cell_type": "code",
      "metadata": {
        "colab": {
          "base_uri": "https://localhost:8080/"
        },
        "id": "lBaKJZ7ttwyb",
        "outputId": "da5aeeb0-f7c5-455a-c61b-189ac09ef85e"
      },
      "source": [
        "# Training our data\n",
        "\n",
        "from sklearn.neighbors import KNeighborsClassifier\n",
        "clf = KNeighborsClassifier(n_neighbors=5)\n",
        "clf.fit(X_train, y_train)"
      ],
      "execution_count": 39,
      "outputs": [
        {
          "output_type": "execute_result",
          "data": {
            "text/plain": [
              "KNeighborsClassifier(algorithm='auto', leaf_size=30, metric='minkowski',\n",
              "                     metric_params=None, n_jobs=None, n_neighbors=5, p=2,\n",
              "                     weights='uniform')"
            ]
          },
          "metadata": {
            "tags": []
          },
          "execution_count": 39
        }
      ]
    },
    {
      "cell_type": "markdown",
      "metadata": {
        "id": "0WZVbXhAuGEl"
      },
      "source": [
        "##### ***Making predictions***"
      ]
    },
    {
      "cell_type": "code",
      "metadata": {
        "id": "4nUhiBCLt5BZ"
      },
      "source": [
        "#make predictions on our test data\n",
        "\n",
        "y_pred = clf.predict(X_test)"
      ],
      "execution_count": 40,
      "outputs": []
    },
    {
      "cell_type": "markdown",
      "metadata": {
        "id": "9wiTcPANumHh"
      },
      "source": [
        "##### ***Evaluating the model***"
      ]
    },
    {
      "cell_type": "code",
      "metadata": {
        "colab": {
          "base_uri": "https://localhost:8080/"
        },
        "id": "IxCSAlFLusGW",
        "outputId": "8314c0cc-602c-44aa-a6a1-6c0880f154ce"
      },
      "source": [
        "# Evaluating the Algorithm\n",
        "\n",
        "from sklearn.metrics import classification_report, confusion_matrix\n",
        "print(confusion_matrix(y_test, y_pred))\n",
        "print(classification_report(y_test, y_pred))"
      ],
      "execution_count": 41,
      "outputs": [
        {
          "output_type": "stream",
          "text": [
            "[[179  22]\n",
            " [ 29  32]]\n",
            "              precision    recall  f1-score   support\n",
            "\n",
            "         0.0       0.86      0.89      0.88       201\n",
            "         1.0       0.59      0.52      0.56        61\n",
            "\n",
            "    accuracy                           0.81       262\n",
            "   macro avg       0.73      0.71      0.72       262\n",
            "weighted avg       0.80      0.81      0.80       262\n",
            "\n"
          ],
          "name": "stdout"
        }
      ]
    },
    {
      "cell_type": "markdown",
      "metadata": {
        "id": "XaG3d4ZxBrJ2"
      },
      "source": [
        "\n",
        "The confusion matrix is used to measure the performance of an machine learning algorithm, usually a supervised learning one.\n",
        "\n",
        "Each row of the confusion matrix represents the instances of an actual class and each column represents the instances of a predicted class.\n",
        "\n",
        "that is evident with the matrix shown above\n",
        "\n",
        "         Confusion Matrix\n",
        "    True Positives(TP) = 179\n",
        "    True Negatives(TN) = 32\n",
        "    False Positives(FP) = 22\n",
        "    False Negatives(FN) = 29\n",
        "\n",
        "The confusion matrix shows 179 + 32= 211 correct predictions and 22 + 29 = 51 incorrect predictions."
      ]
    },
    {
      "cell_type": "markdown",
      "metadata": {
        "id": "Ks-Xos7-u-ia"
      },
      "source": [
        "##### ***Making prediction***"
      ]
    },
    {
      "cell_type": "code",
      "metadata": {
        "colab": {
          "base_uri": "https://localhost:8080/"
        },
        "id": "8sqkXLFVu84N",
        "outputId": "f5834a68-c59a-428b-f1a2-41054e389017"
      },
      "source": [
        "# Making our prediction\n",
        " \n",
        "mean1 = mean_squared_error(y_test, y_pred)\n",
        "print(mean1)"
      ],
      "execution_count": 42,
      "outputs": [
        {
          "output_type": "stream",
          "text": [
            "0.1946564885496183\n"
          ],
          "name": "stdout"
        }
      ]
    },
    {
      "cell_type": "markdown",
      "metadata": {
        "id": "VSkNQcOYwhOZ"
      },
      "source": [
        "##### ***Getting the model accuracy***"
      ]
    },
    {
      "cell_type": "code",
      "metadata": {
        "colab": {
          "base_uri": "https://localhost:8080/"
        },
        "id": "ryggCPtFvnZd",
        "outputId": "9dac39a5-7c79-42bd-d8a6-2d325896e14b"
      },
      "source": [
        "print('Accuracy of KNN classifier:{}'.format(clf.score(X_test, y_test)))"
      ],
      "execution_count": 43,
      "outputs": [
        {
          "output_type": "stream",
          "text": [
            "Accuracy of KNN classifier:0.8053435114503816\n"
          ],
          "name": "stdout"
        }
      ]
    },
    {
      "cell_type": "code",
      "metadata": {
        "colab": {
          "base_uri": "https://localhost:8080/",
          "height": 35
        },
        "id": "80fJdjh3wnRI",
        "outputId": "95108efc-0cb8-41ad-b5f4-525b79778243"
      },
      "source": [
        "\"Accuracy:{}%\".format(round(int(clf.score(X_test, y_test)*100)))"
      ],
      "execution_count": 44,
      "outputs": [
        {
          "output_type": "execute_result",
          "data": {
            "application/vnd.google.colaboratory.intrinsic+json": {
              "type": "string"
            },
            "text/plain": [
              "'Accuracy:80%'"
            ]
          },
          "metadata": {
            "tags": []
          },
          "execution_count": 44
        }
      ]
    },
    {
      "cell_type": "code",
      "metadata": {
        "colab": {
          "base_uri": "https://localhost:8080/"
        },
        "id": "Q39qUi7X8FEE",
        "outputId": "151d7082-b785-44dc-ae3c-c37e648eb8a3"
      },
      "source": [
        "print('The accuracy of 80-20 split is:')\n",
        "a= \"Accuracy:{}%\".format(round(int(clf.score(X_test, y_test)*100)))\n",
        "print(a)"
      ],
      "execution_count": 45,
      "outputs": [
        {
          "output_type": "stream",
          "text": [
            "The accuracy of 80-20 split is:\n",
            "Accuracy:80%\n"
          ],
          "name": "stdout"
        }
      ]
    },
    {
      "cell_type": "markdown",
      "metadata": {
        "id": "AysMy4DPxpZ6"
      },
      "source": [
        "###2) ***Splitting 70-30***"
      ]
    },
    {
      "cell_type": "markdown",
      "metadata": {
        "id": "b99OTCsL1puv"
      },
      "source": [
        "#### ***Splitting our data***"
      ]
    },
    {
      "cell_type": "code",
      "metadata": {
        "id": "-njZIiaNx3JW"
      },
      "source": [
        "#splitting our data in 80-20\n",
        "X_train, X_test, y_train, y_test = train_test_split(X, y, test_size=0.30)"
      ],
      "execution_count": 46,
      "outputs": []
    },
    {
      "cell_type": "markdown",
      "metadata": {
        "id": "YkOkOt-V27KH"
      },
      "source": [
        "#### ***Feature Scaling***"
      ]
    },
    {
      "cell_type": "code",
      "metadata": {
        "id": "T2Ll4sZf1j4Q"
      },
      "source": [
        "# Feature Scaling\n",
        "# it is good practice to scale the features \n",
        "# so that all of them can be uniformly evaluated.\n",
        "\n",
        "from sklearn.preprocessing import StandardScaler\n",
        "scaler = StandardScaler()\n",
        "scaler.fit(X_train)\n",
        "\n",
        "X_train = scaler.transform(X_train)\n",
        "X_test = scaler.transform(X_test)"
      ],
      "execution_count": 47,
      "outputs": []
    },
    {
      "cell_type": "markdown",
      "metadata": {
        "id": "VPmdRLvV3FsU"
      },
      "source": [
        "#### ***Training our data***"
      ]
    },
    {
      "cell_type": "code",
      "metadata": {
        "colab": {
          "base_uri": "https://localhost:8080/"
        },
        "id": "9d7nBZLT16yw",
        "outputId": "e3ae430a-c2dd-4b63-9fff-f038a8f4492f"
      },
      "source": [
        "# Training our data\n",
        "\n",
        "from sklearn.neighbors import KNeighborsClassifier\n",
        "clf = KNeighborsClassifier(n_neighbors=5)\n",
        "clf.fit(X_train, y_train)"
      ],
      "execution_count": 48,
      "outputs": [
        {
          "output_type": "execute_result",
          "data": {
            "text/plain": [
              "KNeighborsClassifier(algorithm='auto', leaf_size=30, metric='minkowski',\n",
              "                     metric_params=None, n_jobs=None, n_neighbors=5, p=2,\n",
              "                     weights='uniform')"
            ]
          },
          "metadata": {
            "tags": []
          },
          "execution_count": 48
        }
      ]
    },
    {
      "cell_type": "markdown",
      "metadata": {
        "id": "0bQ_61Qn3Www"
      },
      "source": [
        "#### ***Making predictions(y_pred)***"
      ]
    },
    {
      "cell_type": "code",
      "metadata": {
        "id": "_LMwtI7n2AKT"
      },
      "source": [
        "#make predictions on our test data\n",
        "\n",
        "y_pred = clf.predict(X_test)"
      ],
      "execution_count": 49,
      "outputs": []
    },
    {
      "cell_type": "markdown",
      "metadata": {
        "id": "__9vS3OA4BEV"
      },
      "source": [
        "#### ***Evaluating the model***"
      ]
    },
    {
      "cell_type": "code",
      "metadata": {
        "colab": {
          "base_uri": "https://localhost:8080/"
        },
        "id": "Q9bFTIlr2Frx",
        "outputId": "ad6cc7c6-e58e-4524-b466-1864e5d7e7ed"
      },
      "source": [
        "# Evaluating the Algorithm\n",
        "\n",
        "from sklearn.metrics import classification_report, confusion_matrix\n",
        "print(confusion_matrix(y_test, y_pred))\n",
        "print(classification_report(y_test, y_pred))"
      ],
      "execution_count": 50,
      "outputs": [
        {
          "output_type": "stream",
          "text": [
            "[[247  33]\n",
            " [ 72  41]]\n",
            "              precision    recall  f1-score   support\n",
            "\n",
            "         0.0       0.77      0.88      0.82       280\n",
            "         1.0       0.55      0.36      0.44       113\n",
            "\n",
            "    accuracy                           0.73       393\n",
            "   macro avg       0.66      0.62      0.63       393\n",
            "weighted avg       0.71      0.73      0.71       393\n",
            "\n"
          ],
          "name": "stdout"
        }
      ]
    },
    {
      "cell_type": "markdown",
      "metadata": {
        "id": "Dy2qt8sJDD4T"
      },
      "source": [
        "The confusion matrix is used to measure the performance of an machine learning algorithm, usually a supervised learning one.\n",
        "\n",
        "Each row of the confusion matrix represents the instances of an actual class and each column represents the instances of a predicted class.\n",
        "\n",
        "that is evident with the matrix shown above\n",
        "           \n",
        "           Confusion Matrix\n",
        "    True Positives(TP) = 247\n",
        "    True Negatives(TN) = 41\n",
        "    False Positives(FP) = 33\n",
        "    False Negatives(FN) = 72\n",
        "\n",
        "The confusion matrix shows 247 + 41= 288 correct predictions and 33 + 72 = 105 incorrect predictions."
      ]
    },
    {
      "cell_type": "markdown",
      "metadata": {
        "id": "DllWlcLM4TwB"
      },
      "source": [
        "####***Making prediction(mean_squared_error)***"
      ]
    },
    {
      "cell_type": "code",
      "metadata": {
        "colab": {
          "base_uri": "https://localhost:8080/"
        },
        "id": "S1c_J_-02Kck",
        "outputId": "d3ad2831-f6e4-46c5-8bf1-44a4fb3ab07f"
      },
      "source": [
        "# Making our prediction\n",
        " \n",
        "#y_pred = clf.predict(X_test)\n",
        "mean2 = mean_squared_error(y_test, y_pred)\n",
        "print(mean2)"
      ],
      "execution_count": 51,
      "outputs": [
        {
          "output_type": "stream",
          "text": [
            "0.26717557251908397\n"
          ],
          "name": "stdout"
        }
      ]
    },
    {
      "cell_type": "markdown",
      "metadata": {
        "id": "cI-H0fqb3jfQ"
      },
      "source": [
        "#### ***Getting the model accuracy***"
      ]
    },
    {
      "cell_type": "code",
      "metadata": {
        "colab": {
          "base_uri": "https://localhost:8080/"
        },
        "id": "kPSjI7H32Qkw",
        "outputId": "b92517db-0315-410b-a2fc-8084b9e3174c"
      },
      "source": [
        "print('Accuracy of KNN classifier:{}'.format(clf.score(X_test, y_test)))"
      ],
      "execution_count": 52,
      "outputs": [
        {
          "output_type": "stream",
          "text": [
            "Accuracy of KNN classifier:0.732824427480916\n"
          ],
          "name": "stdout"
        }
      ]
    },
    {
      "cell_type": "code",
      "metadata": {
        "colab": {
          "base_uri": "https://localhost:8080/"
        },
        "id": "HyJL3WLy2U5D",
        "outputId": "1cd7bc31-c346-42c4-c892-f7af365b0eed"
      },
      "source": [
        "print('The accuracy of 70-30 split is:')\n",
        "b= \"Accuracy:{}%\".format(round(int(clf.score(X_test, y_test)*100)))\n",
        "print(b)"
      ],
      "execution_count": 53,
      "outputs": [
        {
          "output_type": "stream",
          "text": [
            "The accuracy of 70-30 split is:\n",
            "Accuracy:73%\n"
          ],
          "name": "stdout"
        }
      ]
    },
    {
      "cell_type": "markdown",
      "metadata": {
        "id": "pp4jWCyA4b82"
      },
      "source": [
        "###3) Splitting 60-40"
      ]
    },
    {
      "cell_type": "code",
      "metadata": {
        "id": "UrO6oRHE2YCr"
      },
      "source": [
        "#splitting our data in 80-20\n",
        "X_train, X_test, y_train, y_test = train_test_split(X, y, test_size=0.40)"
      ],
      "execution_count": 54,
      "outputs": []
    },
    {
      "cell_type": "markdown",
      "metadata": {
        "id": "vmV1S4Id2_EU"
      },
      "source": [
        "#### ***Feature Scaling***"
      ]
    },
    {
      "cell_type": "code",
      "metadata": {
        "id": "hfJ4DrwT2fTT"
      },
      "source": [
        "# Feature Scaling\n",
        "# it is good practice to scale the features \n",
        "# so that all of them can be uniformly evaluated.\n",
        "\n",
        "from sklearn.preprocessing import StandardScaler\n",
        "scaler = StandardScaler()\n",
        "scaler.fit(X_train)\n",
        "\n",
        "X_train = scaler.transform(X_train)\n",
        "X_test = scaler.transform(X_test)"
      ],
      "execution_count": 55,
      "outputs": []
    },
    {
      "cell_type": "markdown",
      "metadata": {
        "id": "WJfg-Swt3LoA"
      },
      "source": [
        "#### ***Training our data***"
      ]
    },
    {
      "cell_type": "code",
      "metadata": {
        "colab": {
          "base_uri": "https://localhost:8080/"
        },
        "id": "uZMhN70Z2in7",
        "outputId": "8bdbfaed-592d-4ac0-ecde-45c9c14392ae"
      },
      "source": [
        "# Training our data\n",
        "\n",
        "from sklearn.neighbors import KNeighborsClassifier\n",
        "clf = KNeighborsClassifier(n_neighbors=5)\n",
        "clf.fit(X_train, y_train)"
      ],
      "execution_count": 56,
      "outputs": [
        {
          "output_type": "execute_result",
          "data": {
            "text/plain": [
              "KNeighborsClassifier(algorithm='auto', leaf_size=30, metric='minkowski',\n",
              "                     metric_params=None, n_jobs=None, n_neighbors=5, p=2,\n",
              "                     weights='uniform')"
            ]
          },
          "metadata": {
            "tags": []
          },
          "execution_count": 56
        }
      ]
    },
    {
      "cell_type": "markdown",
      "metadata": {
        "id": "KDFqbD3p3bOo"
      },
      "source": [
        "#### ***Making predictions(y_pred)***"
      ]
    },
    {
      "cell_type": "code",
      "metadata": {
        "id": "_-RJoWk92l9d"
      },
      "source": [
        "#make predictions on our test data\n",
        "\n",
        "y_pred = clf.predict(X_test)"
      ],
      "execution_count": 57,
      "outputs": []
    },
    {
      "cell_type": "markdown",
      "metadata": {
        "id": "lHFPzxcN5aBa"
      },
      "source": [
        "#### ***Evaluating the model***"
      ]
    },
    {
      "cell_type": "code",
      "metadata": {
        "colab": {
          "base_uri": "https://localhost:8080/"
        },
        "id": "nQ4vWipL2pQ1",
        "outputId": "f879435e-aa74-438d-da22-4ead4fc1ef95"
      },
      "source": [
        "# Evaluating the Algorithm\n",
        "\n",
        "from sklearn.metrics import classification_report, confusion_matrix\n",
        "print(confusion_matrix(y_test, y_pred))\n",
        "print(classification_report(y_test, y_pred))"
      ],
      "execution_count": 58,
      "outputs": [
        {
          "output_type": "stream",
          "text": [
            "[[334  55]\n",
            " [ 70  65]]\n",
            "              precision    recall  f1-score   support\n",
            "\n",
            "         0.0       0.83      0.86      0.84       389\n",
            "         1.0       0.54      0.48      0.51       135\n",
            "\n",
            "    accuracy                           0.76       524\n",
            "   macro avg       0.68      0.67      0.68       524\n",
            "weighted avg       0.75      0.76      0.76       524\n",
            "\n"
          ],
          "name": "stdout"
        }
      ]
    },
    {
      "cell_type": "markdown",
      "metadata": {
        "id": "htr8WD60EJ2X"
      },
      "source": [
        "The confusion matrix is used to measure the performance of an machine learning algorithm, usually a supervised learning one.\n",
        "\n",
        "Each row of the confusion matrix represents the instances of an actual class and each column represents the instances of a predicted class.\n",
        "\n",
        "that is evident with the matrix shown above\n",
        "           \n",
        "           Confusion Matrix\n",
        "    True Positives(TP) = 334\n",
        "    True Negatives(TN) = 65\n",
        "    False Positives(FP) = 55\n",
        "    False Negatives(FN) = 70\n",
        "\n",
        "The confusion matrix shows 334 + 65= 399 correct predictions and 55 + 70 = 125 incorrect predictions."
      ]
    },
    {
      "cell_type": "markdown",
      "metadata": {
        "id": "NT4AfjP-4NGx"
      },
      "source": [
        "#### ***Making prediction(mean_squared_error)***"
      ]
    },
    {
      "cell_type": "code",
      "metadata": {
        "colab": {
          "base_uri": "https://localhost:8080/"
        },
        "id": "hjLRlbld2si3",
        "outputId": "e7ba724b-2b82-4577-c9e6-be25377d5157"
      },
      "source": [
        "# Making our prediction\n",
        " \n",
        "#y_pred = clf.predict(X_test)\n",
        "mean3 = mean_squared_error(y_test, y_pred)\n",
        "print(mean3)"
      ],
      "execution_count": 59,
      "outputs": [
        {
          "output_type": "stream",
          "text": [
            "0.2385496183206107\n"
          ],
          "name": "stdout"
        }
      ]
    },
    {
      "cell_type": "markdown",
      "metadata": {
        "id": "t4u5J5MS5LsB"
      },
      "source": [
        "#### ***Getting the model accuracy***"
      ]
    },
    {
      "cell_type": "code",
      "metadata": {
        "colab": {
          "base_uri": "https://localhost:8080/"
        },
        "id": "qsLRk_Hw2wZU",
        "outputId": "41d1de81-a193-4df7-c431-dbbeb784777d"
      },
      "source": [
        "print('Accuracy of KNN classifier:{}'.format(clf.score(X_test, y_test)))"
      ],
      "execution_count": 60,
      "outputs": [
        {
          "output_type": "stream",
          "text": [
            "Accuracy of KNN classifier:0.7614503816793893\n"
          ],
          "name": "stdout"
        }
      ]
    },
    {
      "cell_type": "code",
      "metadata": {
        "colab": {
          "base_uri": "https://localhost:8080/",
          "height": 35
        },
        "id": "scQcLuCP20a2",
        "outputId": "f3bf77aa-c0cb-4b28-8256-69ad93415268"
      },
      "source": [
        "\"Accuracy:{}%\".format(round(int(clf.score(X_test, y_test)*100)))"
      ],
      "execution_count": 61,
      "outputs": [
        {
          "output_type": "execute_result",
          "data": {
            "application/vnd.google.colaboratory.intrinsic+json": {
              "type": "string"
            },
            "text/plain": [
              "'Accuracy:76%'"
            ]
          },
          "metadata": {
            "tags": []
          },
          "execution_count": 61
        }
      ]
    },
    {
      "cell_type": "code",
      "metadata": {
        "colab": {
          "base_uri": "https://localhost:8080/"
        },
        "id": "tJd5NkkR8W5Y",
        "outputId": "aa331f42-4bb8-42f9-f36d-585a6aff4999"
      },
      "source": [
        "print('The accuracy of 60-40 split is:')\n",
        "c= \"Accuracy:{}%\".format(round(int(clf.score(X_test, y_test)*100)))\n",
        "print(c)"
      ],
      "execution_count": 62,
      "outputs": [
        {
          "output_type": "stream",
          "text": [
            "The accuracy of 60-40 split is:\n",
            "Accuracy:76%\n"
          ],
          "name": "stdout"
        }
      ]
    },
    {
      "cell_type": "markdown",
      "metadata": {
        "id": "hlY0ALNT61Na"
      },
      "source": [
        "# REVIEWING THE ACCURACY OF THE DIFFERENT SPLITS OF OF KNN MODEL"
      ]
    },
    {
      "cell_type": "code",
      "metadata": {
        "colab": {
          "base_uri": "https://localhost:8080/"
        },
        "id": "Us-9PebM6z9Q",
        "outputId": "1e5a3265-6578-4118-978e-67f037d9b4d9"
      },
      "source": [
        "# Reviewing the Solution \n",
        "# Models vs accuracy.\n",
        "splits = ['80-20', '70-30', '60-40']\n",
        "mean_squared_error = ['mean_squared_error(80-20)','mean_squared_error(70-30)','mean_squared_error(60-40)']\n",
        "mean_squared_erorr_each_split=[mean1,mean2,mean3]\n",
        "accuracy_of_model_each_split = [a,b,c]\n",
        "summary = pd.DataFrame({'Splits': splits, \"Mean_squared_error_each_split\":mean_squared_erorr_each_split,'Accuracy of Model in each split': accuracy_of_model_each_split})\n",
        "print(summary)"
      ],
      "execution_count": 64,
      "outputs": [
        {
          "output_type": "stream",
          "text": [
            "  Splits  Mean_squared_error_each_split Accuracy of Model in each split\n",
            "0  80-20                       0.194656                    Accuracy:80%\n",
            "1  70-30                       0.267176                    Accuracy:73%\n",
            "2  60-40                       0.238550                    Accuracy:76%\n"
          ],
          "name": "stdout"
        }
      ]
    },
    {
      "cell_type": "markdown",
      "metadata": {
        "id": "Q77F6TVhBM0t"
      },
      "source": [
        "# RESULTS AND CONCLUSIONS"
      ]
    },
    {
      "cell_type": "markdown",
      "metadata": {
        "id": "PWDBfPPcAThe"
      },
      "source": [
        "Results and Conclusion\n",
        "\n",
        "           Splits\n",
        "    80:20 - Model accuracy score: 80%\n",
        "\n",
        "    70:30 - Model accuracy score: 73%\n",
        "\n",
        "    60:40 - Model accuracy score: 76%\n",
        "\n",
        "From the three splits, the model that was more accurate was the one that was split  into 80:20 . This particular model had an accuracy score of 80%\n",
        "\n",
        "The parameters that gave the best results :\n",
        "\n",
        "{'n_neighbors': 10}"
      ]
    },
    {
      "cell_type": "markdown",
      "metadata": {
        "id": "MdN65au4RF2R"
      },
      "source": [
        "# FOLLOW UP QUESTIONS"
      ]
    },
    {
      "cell_type": "markdown",
      "metadata": {
        "id": "nsR8BcNzRK9v"
      },
      "source": [
        "## Did we have the right data?"
      ]
    },
    {
      "cell_type": "markdown",
      "metadata": {
        "id": "BVMvJkYiRR1t"
      },
      "source": [
        "> No data had a class imbalance that affects model performance"
      ]
    },
    {
      "cell_type": "markdown",
      "metadata": {
        "id": "tTnyfb93RXAZ"
      },
      "source": [
        "## Do we need other data to answer our question?"
      ]
    },
    {
      "cell_type": "markdown",
      "metadata": {
        "id": "gHYCoVWTRsFx"
      },
      "source": [
        "> YES"
      ]
    },
    {
      "cell_type": "markdown",
      "metadata": {
        "id": "tKUQvJCzRhN-"
      },
      "source": [
        "## Did we have the right question?"
      ]
    },
    {
      "cell_type": "markdown",
      "metadata": {
        "id": "79bnY9JURo9Q"
      },
      "source": [
        "> YES"
      ]
    }
  ]
}